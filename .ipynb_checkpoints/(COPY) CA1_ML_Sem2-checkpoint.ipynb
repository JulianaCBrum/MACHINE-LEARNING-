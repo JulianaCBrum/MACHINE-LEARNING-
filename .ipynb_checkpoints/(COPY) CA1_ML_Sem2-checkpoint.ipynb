{
 "cells": [
  {
   "cell_type": "markdown",
   "id": "336ccad5",
   "metadata": {},
   "source": [
    "<a id=\"1.1\"></a>\n",
    "<h2 style=\"font-family:arial;text-align:center; font-size: 40px; font-style: normal; font-weight: normal; text-decoration: none; text-transform: none; letter-spacing: 2px; color:lightblue; background-color: #ffffff;\"> <b>HDIP DATA ANALYTICS</b></h2>"
   ]
  },
  {
   "cell_type": "markdown",
   "id": "544df379",
   "metadata": {},
   "source": [
    "<div style=\"padding:20px;color:white;margin:0;font-size:35px;font-family:arial;text-align:center;display:fill;border-radius:5px;background-color:lightblue;overflow:hidden\"><b>MACHINE LEARNING FOR BUSINESS | SEM 2</b></div>"
   ]
  },
  {
   "cell_type": "markdown",
   "id": "8a5d5c56",
   "metadata": {},
   "source": [
    "Lecturer(s): Dr. Muhammad Iqbal\n",
    "\n",
    "Issue Date: 14th September 2023\n",
    "\n",
    "Submission Deadline Date: 5th November 2023\n",
    "\n",
    "Students: **_Bárbara Abreu Costa 2023099_** | **_Juliana Cristina da Cunha Brum 2023021_** \n",
    "\n",
    "GitHub Repository: https://github.com/JulianaCBrum/MACHINE-LEARNING-"
   ]
  },
  {
   "cell_type": "markdown",
   "id": "cc227db8",
   "metadata": {},
   "source": [
    "-----"
   ]
  },
  {
   "cell_type": "markdown",
   "id": "eb875aa9",
   "metadata": {},
   "source": [
    "<a id=\"1\"></a>\n",
    "# <p style=\"padding:10px;background-color:lightblue;margin:0;color:white;font-family:arial;font-size:100%;text-align:center;border-radius: 15px 50px;overflow:hidden;font-weight:500\">FLIGHT PRICE</p>"
   ]
  },
  {
   "cell_type": "markdown",
   "id": "86cf5391",
   "metadata": {},
   "source": [
    "**_Quick overview of our dataset_** "
   ]
  },
  {
   "cell_type": "markdown",
   "id": "9c48eda3",
   "metadata": {},
   "source": [
    "> This is a dataset found on Kaggle that contains informations about flight booking options avaiable through the website Easymytrip for flights between the top 6 metropolises in India. Data had been collected in two stages: for business calss ticket and for economy class ticket. The site provided a total 300.261 unique fligh booking possibilities, from February 11 to March 31 of 2022. "
   ]
  },
  {
   "cell_type": "code",
   "execution_count": null,
   "id": "0a8d1f94",
   "metadata": {},
   "outputs": [],
   "source": []
  },
  {
   "cell_type": "markdown",
   "id": "16beb2a2",
   "metadata": {},
   "source": [
    "<a id=\"1\"></a>\n",
    "# <p style=\"padding:10px;background-color:lightblue;margin:0;color:white;font-family:arial;font-size:100%;text-align:center;border-radius: 15px 50px;overflow:hidden;font-weight:500\">DICTIONARY</p>"
   ]
  },
  {
   "cell_type": "markdown",
   "id": "c903f679",
   "metadata": {},
   "source": [
    "|STT | ATTRIBUTE NAME | MEANING |\n",
    "|:---| :--- |:--- |\n",
    "| 0 | Date\n",
    "| 1 | Airline | The name of the airline company is stored in the airline column. It is a categorical feature having 6 different airlines.\n",
    "| 2 | Flight | Flight stores information regarding the plane's flight code. It is a categorical feature.\n",
    "| 3 | Source City | City from which the flight takes off. It is a categorical feature having 6 unique cities.\n",
    "| 4 | Departure Time |This is a derived categorical feature obtained created by grouping time periods into bins. It stores information about the departure time and have 6 unique time labels.\n",
    "| 5 | Stops | A categorical feature with 3 distinct values that stores the number of stops between the source and destination cities.\n",
    "| 6 | Arrival Time | This is a derived categorical feature created by grouping time intervals into bins. It has six distinct time labels and keeps information about the arrival time.\n",
    "| 7 | Destination City | City where the flight will land. It is a categorical feature having 6 unique cities.\n",
    "| 8 | Class | A categorical feature that contains information on seat class; it has two distinct values: Business and Economy.\n",
    "| 9 | Duration | A continuous feature that displays the overall amount of time it takes to travel between cities in hours.\n",
    "| 10 | Days Left | This is a derived characteristic that is calculated by subtracting the trip date by the booking date.\n",
    "| 11 | Price | Target variable stores information of the ticket price."
   ]
  },
  {
   "cell_type": "markdown",
   "id": "c1c93a8c",
   "metadata": {},
   "source": [
    "-----"
   ]
  },
  {
   "cell_type": "code",
   "execution_count": 1,
   "id": "cc2d9b03",
   "metadata": {},
   "outputs": [],
   "source": [
    "import pandas as pd\n",
    "import seaborn as sns\n",
    "import matplotlib.pyplot as plt"
   ]
  },
  {
   "cell_type": "markdown",
   "id": "6c26a412",
   "metadata": {},
   "source": [
    "##### Undertanding our data"
   ]
  },
  {
   "cell_type": "code",
   "execution_count": 2,
   "id": "03f1ba19",
   "metadata": {},
   "outputs": [],
   "source": [
    "df_business = pd.read_csv('business.csv')"
   ]
  },
  {
   "cell_type": "code",
   "execution_count": 4,
   "id": "eb35d5de",
   "metadata": {},
   "outputs": [
    {
     "data": {
      "text/html": [
       "<div>\n",
       "<style scoped>\n",
       "    .dataframe tbody tr th:only-of-type {\n",
       "        vertical-align: middle;\n",
       "    }\n",
       "\n",
       "    .dataframe tbody tr th {\n",
       "        vertical-align: top;\n",
       "    }\n",
       "\n",
       "    .dataframe thead th {\n",
       "        text-align: right;\n",
       "    }\n",
       "</style>\n",
       "<table border=\"1\" class=\"dataframe\">\n",
       "  <thead>\n",
       "    <tr style=\"text-align: right;\">\n",
       "      <th></th>\n",
       "      <th>date</th>\n",
       "      <th>airline</th>\n",
       "      <th>ch_code</th>\n",
       "      <th>num_code</th>\n",
       "      <th>dep_time</th>\n",
       "      <th>from</th>\n",
       "      <th>time_taken</th>\n",
       "      <th>stop</th>\n",
       "      <th>arr_time</th>\n",
       "      <th>to</th>\n",
       "      <th>price</th>\n",
       "    </tr>\n",
       "  </thead>\n",
       "  <tbody>\n",
       "    <tr>\n",
       "      <th>0</th>\n",
       "      <td>11-02-2022</td>\n",
       "      <td>Air India</td>\n",
       "      <td>AI</td>\n",
       "      <td>868</td>\n",
       "      <td>18:00</td>\n",
       "      <td>Delhi</td>\n",
       "      <td>02h 00m</td>\n",
       "      <td>non-stop</td>\n",
       "      <td>20:00</td>\n",
       "      <td>Mumbai</td>\n",
       "      <td>25,612</td>\n",
       "    </tr>\n",
       "    <tr>\n",
       "      <th>1</th>\n",
       "      <td>11-02-2022</td>\n",
       "      <td>Air India</td>\n",
       "      <td>AI</td>\n",
       "      <td>624</td>\n",
       "      <td>19:00</td>\n",
       "      <td>Delhi</td>\n",
       "      <td>02h 15m</td>\n",
       "      <td>non-stop</td>\n",
       "      <td>21:15</td>\n",
       "      <td>Mumbai</td>\n",
       "      <td>25,612</td>\n",
       "    </tr>\n",
       "    <tr>\n",
       "      <th>2</th>\n",
       "      <td>11-02-2022</td>\n",
       "      <td>Air India</td>\n",
       "      <td>AI</td>\n",
       "      <td>531</td>\n",
       "      <td>20:00</td>\n",
       "      <td>Delhi</td>\n",
       "      <td>24h 45m</td>\n",
       "      <td>1-stop\\n\\t\\t\\t\\t\\t\\t\\t\\t\\t\\t\\t\\t\\n\\t\\t\\t\\t\\t\\t...</td>\n",
       "      <td>20:45</td>\n",
       "      <td>Mumbai</td>\n",
       "      <td>42,220</td>\n",
       "    </tr>\n",
       "    <tr>\n",
       "      <th>3</th>\n",
       "      <td>11-02-2022</td>\n",
       "      <td>Air India</td>\n",
       "      <td>AI</td>\n",
       "      <td>839</td>\n",
       "      <td>21:25</td>\n",
       "      <td>Delhi</td>\n",
       "      <td>26h 30m</td>\n",
       "      <td>1-stop\\n\\t\\t\\t\\t\\t\\t\\t\\t\\t\\t\\t\\t\\n\\t\\t\\t\\t\\t\\t...</td>\n",
       "      <td>23:55</td>\n",
       "      <td>Mumbai</td>\n",
       "      <td>44,450</td>\n",
       "    </tr>\n",
       "    <tr>\n",
       "      <th>4</th>\n",
       "      <td>11-02-2022</td>\n",
       "      <td>Air India</td>\n",
       "      <td>AI</td>\n",
       "      <td>544</td>\n",
       "      <td>17:15</td>\n",
       "      <td>Delhi</td>\n",
       "      <td>06h 40m</td>\n",
       "      <td>1-stop\\n\\t\\t\\t\\t\\t\\t\\t\\t\\t\\t\\t\\t\\n\\t\\t\\t\\t\\t\\t...</td>\n",
       "      <td>23:55</td>\n",
       "      <td>Mumbai</td>\n",
       "      <td>46,690</td>\n",
       "    </tr>\n",
       "  </tbody>\n",
       "</table>\n",
       "</div>"
      ],
      "text/plain": [
       "         date    airline ch_code  num_code dep_time   from time_taken  \\\n",
       "0  11-02-2022  Air India      AI       868    18:00  Delhi    02h 00m   \n",
       "1  11-02-2022  Air India      AI       624    19:00  Delhi    02h 15m   \n",
       "2  11-02-2022  Air India      AI       531    20:00  Delhi    24h 45m   \n",
       "3  11-02-2022  Air India      AI       839    21:25  Delhi    26h 30m   \n",
       "4  11-02-2022  Air India      AI       544    17:15  Delhi    06h 40m   \n",
       "\n",
       "                                                stop arr_time      to   price  \n",
       "0                                          non-stop     20:00  Mumbai  25,612  \n",
       "1                                          non-stop     21:15  Mumbai  25,612  \n",
       "2  1-stop\\n\\t\\t\\t\\t\\t\\t\\t\\t\\t\\t\\t\\t\\n\\t\\t\\t\\t\\t\\t...    20:45  Mumbai  42,220  \n",
       "3  1-stop\\n\\t\\t\\t\\t\\t\\t\\t\\t\\t\\t\\t\\t\\n\\t\\t\\t\\t\\t\\t...    23:55  Mumbai  44,450  \n",
       "4  1-stop\\n\\t\\t\\t\\t\\t\\t\\t\\t\\t\\t\\t\\t\\n\\t\\t\\t\\t\\t\\t...    23:55  Mumbai  46,690  "
      ]
     },
     "execution_count": 4,
     "metadata": {},
     "output_type": "execute_result"
    }
   ],
   "source": [
    "df_business.head()"
   ]
  },
  {
   "cell_type": "code",
   "execution_count": 5,
   "id": "f6edb07d",
   "metadata": {},
   "outputs": [],
   "source": [
    "df_economy = pd.read_csv('economy.csv')"
   ]
  },
  {
   "cell_type": "code",
   "execution_count": 6,
   "id": "d3454c26",
   "metadata": {},
   "outputs": [
    {
     "data": {
      "text/html": [
       "<div>\n",
       "<style scoped>\n",
       "    .dataframe tbody tr th:only-of-type {\n",
       "        vertical-align: middle;\n",
       "    }\n",
       "\n",
       "    .dataframe tbody tr th {\n",
       "        vertical-align: top;\n",
       "    }\n",
       "\n",
       "    .dataframe thead th {\n",
       "        text-align: right;\n",
       "    }\n",
       "</style>\n",
       "<table border=\"1\" class=\"dataframe\">\n",
       "  <thead>\n",
       "    <tr style=\"text-align: right;\">\n",
       "      <th></th>\n",
       "      <th>date</th>\n",
       "      <th>airline</th>\n",
       "      <th>ch_code</th>\n",
       "      <th>num_code</th>\n",
       "      <th>dep_time</th>\n",
       "      <th>from</th>\n",
       "      <th>time_taken</th>\n",
       "      <th>stop</th>\n",
       "      <th>arr_time</th>\n",
       "      <th>to</th>\n",
       "      <th>price</th>\n",
       "    </tr>\n",
       "  </thead>\n",
       "  <tbody>\n",
       "    <tr>\n",
       "      <th>0</th>\n",
       "      <td>11-02-2022</td>\n",
       "      <td>SpiceJet</td>\n",
       "      <td>SG</td>\n",
       "      <td>8709</td>\n",
       "      <td>18:55</td>\n",
       "      <td>Delhi</td>\n",
       "      <td>02h 10m</td>\n",
       "      <td>non-stop</td>\n",
       "      <td>21:05</td>\n",
       "      <td>Mumbai</td>\n",
       "      <td>5,953</td>\n",
       "    </tr>\n",
       "    <tr>\n",
       "      <th>1</th>\n",
       "      <td>11-02-2022</td>\n",
       "      <td>SpiceJet</td>\n",
       "      <td>SG</td>\n",
       "      <td>8157</td>\n",
       "      <td>06:20</td>\n",
       "      <td>Delhi</td>\n",
       "      <td>02h 20m</td>\n",
       "      <td>non-stop</td>\n",
       "      <td>08:40</td>\n",
       "      <td>Mumbai</td>\n",
       "      <td>5,953</td>\n",
       "    </tr>\n",
       "    <tr>\n",
       "      <th>2</th>\n",
       "      <td>11-02-2022</td>\n",
       "      <td>AirAsia</td>\n",
       "      <td>I5</td>\n",
       "      <td>764</td>\n",
       "      <td>04:25</td>\n",
       "      <td>Delhi</td>\n",
       "      <td>02h 10m</td>\n",
       "      <td>non-stop</td>\n",
       "      <td>06:35</td>\n",
       "      <td>Mumbai</td>\n",
       "      <td>5,956</td>\n",
       "    </tr>\n",
       "    <tr>\n",
       "      <th>3</th>\n",
       "      <td>11-02-2022</td>\n",
       "      <td>Vistara</td>\n",
       "      <td>UK</td>\n",
       "      <td>995</td>\n",
       "      <td>10:20</td>\n",
       "      <td>Delhi</td>\n",
       "      <td>02h 15m</td>\n",
       "      <td>non-stop</td>\n",
       "      <td>12:35</td>\n",
       "      <td>Mumbai</td>\n",
       "      <td>5,955</td>\n",
       "    </tr>\n",
       "    <tr>\n",
       "      <th>4</th>\n",
       "      <td>11-02-2022</td>\n",
       "      <td>Vistara</td>\n",
       "      <td>UK</td>\n",
       "      <td>963</td>\n",
       "      <td>08:50</td>\n",
       "      <td>Delhi</td>\n",
       "      <td>02h 20m</td>\n",
       "      <td>non-stop</td>\n",
       "      <td>11:10</td>\n",
       "      <td>Mumbai</td>\n",
       "      <td>5,955</td>\n",
       "    </tr>\n",
       "  </tbody>\n",
       "</table>\n",
       "</div>"
      ],
      "text/plain": [
       "         date   airline ch_code  num_code dep_time   from time_taken  \\\n",
       "0  11-02-2022  SpiceJet      SG      8709    18:55  Delhi    02h 10m   \n",
       "1  11-02-2022  SpiceJet      SG      8157    06:20  Delhi    02h 20m   \n",
       "2  11-02-2022   AirAsia      I5       764    04:25  Delhi    02h 10m   \n",
       "3  11-02-2022   Vistara      UK       995    10:20  Delhi    02h 15m   \n",
       "4  11-02-2022   Vistara      UK       963    08:50  Delhi    02h 20m   \n",
       "\n",
       "        stop arr_time      to  price  \n",
       "0  non-stop     21:05  Mumbai  5,953  \n",
       "1  non-stop     08:40  Mumbai  5,953  \n",
       "2  non-stop     06:35  Mumbai  5,956  \n",
       "3  non-stop     12:35  Mumbai  5,955  \n",
       "4  non-stop     11:10  Mumbai  5,955  "
      ]
     },
     "execution_count": 6,
     "metadata": {},
     "output_type": "execute_result"
    }
   ],
   "source": [
    "df_economy.head()"
   ]
  },
  {
   "cell_type": "code",
   "execution_count": null,
   "id": "6a3d4d33",
   "metadata": {},
   "outputs": [],
   "source": []
  },
  {
   "cell_type": "code",
   "execution_count": null,
   "id": "53272bd6",
   "metadata": {},
   "outputs": [],
   "source": [
    "df.shape"
   ]
  },
  {
   "cell_type": "code",
   "execution_count": null,
   "id": "752f12a5",
   "metadata": {},
   "outputs": [],
   "source": [
    "df.tail()"
   ]
  },
  {
   "cell_type": "code",
   "execution_count": null,
   "id": "d8a64f15",
   "metadata": {},
   "outputs": [],
   "source": [
    "df.describe()"
   ]
  },
  {
   "cell_type": "code",
   "execution_count": null,
   "id": "ae4c022d",
   "metadata": {},
   "outputs": [],
   "source": [
    "df.info()"
   ]
  },
  {
   "cell_type": "code",
   "execution_count": null,
   "id": "ca329bb1",
   "metadata": {},
   "outputs": [],
   "source": [
    "df.isnull().sum()"
   ]
  },
  {
   "cell_type": "markdown",
   "id": "915a8f6c",
   "metadata": {},
   "source": [
    "> To ensure data quality and avoid misleading or redundant information, I'll dropping duplicate rows "
   ]
  },
  {
   "cell_type": "code",
   "execution_count": null,
   "id": "507f77a8",
   "metadata": {},
   "outputs": [],
   "source": [
    "df.duplicated().sum()"
   ]
  },
  {
   "cell_type": "markdown",
   "id": "8f4ca301",
   "metadata": {},
   "source": [
    "Some columns are irrelevant for our analysis, so I am going to drop them. "
   ]
  },
  {
   "cell_type": "code",
   "execution_count": null,
   "id": "93786493",
   "metadata": {},
   "outputs": [],
   "source": [
    "df1 = df.drop(['ch_code', 'num_code', 'dep_time', 'stop', 'arr_time'], axis=1)\n",
    "df1.head()"
   ]
  },
  {
   "cell_type": "markdown",
   "id": "6d511e4b",
   "metadata": {},
   "source": [
    "##### Top 5 Airline by count"
   ]
  },
  {
   "cell_type": "code",
   "execution_count": null,
   "id": "27b603bf",
   "metadata": {},
   "outputs": [],
   "source": [
    "value_counts = df1['airline'].value_counts()\n",
    "print(value_counts)"
   ]
  },
  {
   "cell_type": "markdown",
   "id": "ad14d653",
   "metadata": {},
   "source": [
    "    We have only two airlines in the dataset: Vistara and Air India "
   ]
  },
  {
   "cell_type": "code",
   "execution_count": null,
   "id": "36b7a720",
   "metadata": {
    "scrolled": false
   },
   "outputs": [],
   "source": [
    "# Calculate value counts\n",
    "value_counts = df1['airline'].value_counts()\n",
    "\n",
    "# Plot the value counts\n",
    "value_counts.plot(kind='bar', color='skyblue')\n",
    "plt.title('Airlines')\n",
    "plt.xlabel('Airlines')\n",
    "plt.ylabel('Count')\n",
    "plt.show()"
   ]
  },
  {
   "cell_type": "code",
   "execution_count": null,
   "id": "aa0d0483",
   "metadata": {},
   "outputs": [],
   "source": [
    "from_counts = df1['from'].value_counts()\n",
    "to_counts = df1['to'].value_counts()\n",
    "\n",
    "# Create a grouped bar chart\n",
    "fig, ax = plt.subplots()\n",
    "bar_width = 0.35\n",
    "index = range(len(from_counts))\n",
    "\n",
    "rects1 = ax.bar(index, from_counts, bar_width, label='From', color='skyblue')\n",
    "rects2 = ax.bar(index, to_counts, bar_width, label='To', color='lightgreen', alpha=0.7)\n",
    "\n",
    "ax.set_xlabel('Locations')\n",
    "ax.set_ylabel('Counts')\n",
    "ax.set_title('Counts of \"From\" and \"To\" Locations')\n",
    "ax.set_xticks(index)\n",
    "ax.set_xticklabels(from_counts.index)\n",
    "ax.legend()\n",
    "\n",
    "plt.show()"
   ]
  },
  {
   "cell_type": "markdown",
   "id": "c7781f2c",
   "metadata": {},
   "source": [
    "##### Prices distribuition"
   ]
  },
  {
   "cell_type": "code",
   "execution_count": null,
   "id": "5b26da1d",
   "metadata": {
    "scrolled": false
   },
   "outputs": [],
   "source": [
    "sns.displot(df1['price'],color='green',kde=True)"
   ]
  },
  {
   "cell_type": "code",
   "execution_count": null,
   "id": "9fd212ae",
   "metadata": {},
   "outputs": [],
   "source": [
    "df1.head()"
   ]
  },
  {
   "cell_type": "code",
   "execution_count": null,
   "id": "df95d672",
   "metadata": {},
   "outputs": [],
   "source": []
  },
  {
   "cell_type": "code",
   "execution_count": null,
   "id": "a8ec6de0",
   "metadata": {},
   "outputs": [],
   "source": [
    "# Plot the data present in the dataframe\n",
    "df1.info()"
   ]
  },
  {
   "cell_type": "markdown",
   "id": "7d34e510",
   "metadata": {},
   "source": [
    "##### Analysing the correlation between flight duration and price"
   ]
  },
  {
   "cell_type": "code",
   "execution_count": null,
   "id": "defcf4d2",
   "metadata": {},
   "outputs": [],
   "source": [
    "def dur_conv(duration):\n",
    "    dur_split = re.split('[:]', duration)\n",
    "   \n",
    "    dur_in_min = 0\n",
    "    \n",
    "    for dur in range(0,len(dur_split)):\n",
    "        if dur_split[dur] != \"\":\n",
    "            if dur == 0:\n",
    "                dur_in_min = int(dur_split[dur]) * 60\n",
    "            elif dur == 1:\n",
    "                dur_in_min = dur_in_min + int(dur_split[dur])\n",
    "    return dur_in_min"
   ]
  },
  {
   "cell_type": "code",
   "execution_count": null,
   "id": "7dcd0344",
   "metadata": {},
   "outputs": [],
   "source": [
    "import regex as re\n",
    "\n",
    "df[\"arr_time\"] = df[\"arr_time\"].apply(dur_conv)\n",
    "\n",
    "plt.figure(figsize=(15,5))\n",
    "sns.scatterplot(x=\"arr_time\", y=\"price\", data=df)\n",
    "plt.show()"
   ]
  },
  {
   "cell_type": "code",
   "execution_count": null,
   "id": "4cc68d54",
   "metadata": {},
   "outputs": [],
   "source": []
  },
  {
   "cell_type": "code",
   "execution_count": null,
   "id": "350b513b",
   "metadata": {},
   "outputs": [],
   "source": [
    "df_new = df.drop_duplicates()"
   ]
  },
  {
   "cell_type": "markdown",
   "id": "ddc7fbc9",
   "metadata": {},
   "source": [
    "##### Convert remaining \"categorical\" values to \"numerical\" values"
   ]
  },
  {
   "cell_type": "code",
   "execution_count": null,
   "id": "30c0d3bd",
   "metadata": {},
   "outputs": [],
   "source": [
    "from sklearn.preprocessing import LabelEncoder\n",
    "lab_enc = LabelEncoder()"
   ]
  },
  {
   "cell_type": "code",
   "execution_count": null,
   "id": "ff50adb8",
   "metadata": {},
   "outputs": [],
   "source": [
    "df_new[\"airline\"] = lab_enc.fit_transform(df[\"airline\"])\n",
    "df_new[\"from\"] = lab_enc.fit_transform(df[\"from\"])\n",
    "df_new[\"to\"] = lab_enc.fit_transform(df[\"to\"])\n",
    "df_new[\"date\"] = lab_enc.fit_transform(df[\"date\"])"
   ]
  },
  {
   "cell_type": "code",
   "execution_count": null,
   "id": "745a870c",
   "metadata": {},
   "outputs": [],
   "source": [
    "df_new.head()"
   ]
  },
  {
   "cell_type": "code",
   "execution_count": null,
   "id": "6062f15d",
   "metadata": {},
   "outputs": [],
   "source": []
  },
  {
   "cell_type": "code",
   "execution_count": null,
   "id": "9a5953c2",
   "metadata": {},
   "outputs": [],
   "source": []
  },
  {
   "cell_type": "code",
   "execution_count": null,
   "id": "e5bef0a0",
   "metadata": {},
   "outputs": [],
   "source": []
  },
  {
   "cell_type": "code",
   "execution_count": null,
   "id": "0dc944a1",
   "metadata": {},
   "outputs": [],
   "source": []
  },
  {
   "cell_type": "code",
   "execution_count": null,
   "id": "624e31ca",
   "metadata": {},
   "outputs": [],
   "source": []
  },
  {
   "cell_type": "markdown",
   "id": "347ad7d3",
   "metadata": {},
   "source": [
    "<a id=\"1\"></a>\n",
    "# <p style=\"padding:10px;background-color:lightblue;margin:0;color:white;font-family:arial;font-size:100%;text-align:center;border-radius: 15px 50px;overflow:hidden;font-weight:500\">BARBARA'S APPROCHE</p>"
   ]
  },
  {
   "cell_type": "markdown",
   "id": "d44683e0",
   "metadata": {},
   "source": [
    "> Since my partner choce to focusing on 'time series' analysis I decided to applied clustering.\n",
    ">\n",
    "> Between the avaibles features in our dataset such as 'airline', 'from' and 'to' I will experiment differents combiantions to see what yields can be the most meaningful cluster"
   ]
  },
  {
   "cell_type": "markdown",
   "id": "37869cff",
   "metadata": {},
   "source": [
    "Applying Clustering on the 'from' column"
   ]
  },
  {
   "cell_type": "code",
   "execution_count": null,
   "id": "b626e3e0",
   "metadata": {},
   "outputs": [],
   "source": [
    "from_counts = df['from'].value_counts()\n",
    "print(from_counts)"
   ]
  },
  {
   "cell_type": "code",
   "execution_count": null,
   "id": "4ca51532",
   "metadata": {},
   "outputs": [],
   "source": [
    "columns_to_drop = ['date', 'airline', 'ch_code', 'num_code', 'dep_time', 'time_taken', 'stop', 'arr_time', 'to', 'price']\n",
    "df_cluster = df.drop(columns=columns_to_drop)"
   ]
  },
  {
   "cell_type": "markdown",
   "id": "a8cf58a2",
   "metadata": {},
   "source": [
    "**CLUSTERING**"
   ]
  },
  {
   "cell_type": "code",
   "execution_count": null,
   "id": "2305de03",
   "metadata": {},
   "outputs": [],
   "source": [
    "df_cluster = pd.get_dummies(df_cluster, columns=['from'])"
   ]
  },
  {
   "cell_type": "code",
   "execution_count": null,
   "id": "4a9ffa3b",
   "metadata": {},
   "outputs": [],
   "source": [
    "print(df_cluster.head())"
   ]
  },
  {
   "cell_type": "code",
   "execution_count": null,
   "id": "3b191551",
   "metadata": {},
   "outputs": [],
   "source": []
  },
  {
   "cell_type": "code",
   "execution_count": null,
   "id": "74e0cf31",
   "metadata": {},
   "outputs": [],
   "source": [
    "from sklearn.cluster import KMeans\n",
    "kmeans = KMeans(n_clusters=3, random_state=0)\n",
    "df_cluster['cluster'] = kmeans.fit_predict(df_cluster)"
   ]
  },
  {
   "cell_type": "code",
   "execution_count": null,
   "id": "f23bf0e4",
   "metadata": {},
   "outputs": [],
   "source": [
    "print(df_cluster.head())"
   ]
  },
  {
   "cell_type": "code",
   "execution_count": null,
   "id": "3fe26236",
   "metadata": {},
   "outputs": [],
   "source": [
    "from sklearn.metrics import silhouette_score\n",
    "X = df_cluster.drop(columns=['cluster'])\n",
    "silhouette_avg = silhouette_score(X, df_cluster['cluster'])\n",
    "print(f\"The average silhouette_score is: {silhouette_avg}\")"
   ]
  },
  {
   "cell_type": "code",
   "execution_count": null,
   "id": "cad692ea",
   "metadata": {},
   "outputs": [],
   "source": []
  },
  {
   "cell_type": "code",
   "execution_count": null,
   "id": "0e3eb43e",
   "metadata": {},
   "outputs": [],
   "source": []
  },
  {
   "cell_type": "markdown",
   "id": "f2df621b",
   "metadata": {},
   "source": [
    "# Checking the full dataset with both classes - business & economy"
   ]
  },
  {
   "cell_type": "code",
   "execution_count": null,
   "id": "102de5c7",
   "metadata": {},
   "outputs": [],
   "source": [
    "df2 = pd.read_csv('all_classes.csv')"
   ]
  },
  {
   "cell_type": "code",
   "execution_count": null,
   "id": "2d6e98d4",
   "metadata": {},
   "outputs": [],
   "source": [
    "df2.head()"
   ]
  },
  {
   "cell_type": "code",
   "execution_count": null,
   "id": "865e643f",
   "metadata": {},
   "outputs": [],
   "source": [
    "df2.tail()"
   ]
  },
  {
   "cell_type": "code",
   "execution_count": null,
   "id": "79aea6fd",
   "metadata": {},
   "outputs": [],
   "source": [
    "df2.shape"
   ]
  },
  {
   "cell_type": "code",
   "execution_count": null,
   "id": "48cf6fed",
   "metadata": {},
   "outputs": [],
   "source": [
    "df2.duplicated().sum()"
   ]
  },
  {
   "cell_type": "code",
   "execution_count": null,
   "id": "4f72c5ee",
   "metadata": {},
   "outputs": [],
   "source": [
    "df2['airline'].value_counts()"
   ]
  },
  {
   "cell_type": "markdown",
   "id": "22412051",
   "metadata": {},
   "source": [
    "> Create a pieplot of rhe airline companies to show which has the most number of flights"
   ]
  },
  {
   "cell_type": "code",
   "execution_count": null,
   "id": "f74f2f2f",
   "metadata": {},
   "outputs": [],
   "source": [
    "import matplotlib.pyplot as plt\n",
    "\n",
    "value_counts_series = df2['airline'].value_counts()\n",
    "value_counts_series.plot.pie(autopct='%1.1f%%', startangle=90, figsize=(8, 8))\n",
    "plt.title('AIRLINE DISTRIBUTION', fontsize=20)\n",
    "\n",
    "plt.show()"
   ]
  },
  {
   "cell_type": "code",
   "execution_count": null,
   "id": "6f440304",
   "metadata": {},
   "outputs": [],
   "source": [
    "df2['class'].value_counts()"
   ]
  },
  {
   "cell_type": "code",
   "execution_count": null,
   "id": "f78af5b4",
   "metadata": {},
   "outputs": [],
   "source": [
    "plt.title('CLASS')\n",
    "round(df2['class'].value_counts()/df2.shape[0]*100,2).plot.pie(autopct = \"%1.2f%%\")"
   ]
  },
  {
   "cell_type": "code",
   "execution_count": null,
   "id": "1340f375",
   "metadata": {},
   "outputs": [],
   "source": [
    "df2['stops'].value_counts()"
   ]
  },
  {
   "cell_type": "code",
   "execution_count": null,
   "id": "ae7ba7d7",
   "metadata": {},
   "outputs": [],
   "source": [
    "df2['stops'].replace('one', '1', inplace=True)\n",
    "df2['stops'].replace('zero', '0', inplace=True)\n",
    "df2['stops'].replace('two_or_more', '2', inplace=True)"
   ]
  },
  {
   "cell_type": "code",
   "execution_count": null,
   "id": "1e76cca5",
   "metadata": {},
   "outputs": [],
   "source": [
    "sns.barplot(data = df2 ,x = \"stops\" ,y=\"price\")"
   ]
  },
  {
   "cell_type": "markdown",
   "id": "db0e3047",
   "metadata": {},
   "source": [
    "> The plot above shows that the single stop has the most expensives prices"
   ]
  },
  {
   "cell_type": "code",
   "execution_count": null,
   "id": "85d5c94b",
   "metadata": {},
   "outputs": [],
   "source": [
    "df2['source_city'].value_counts()"
   ]
  },
  {
   "cell_type": "code",
   "execution_count": null,
   "id": "e0135683",
   "metadata": {},
   "outputs": [],
   "source": [
    "import matplotlib.pyplot as plt\n",
    "\n",
    "value_counts_series = df2['source_city'].value_counts()\n",
    "value_counts_series.plot(kind='bar', figsize=(10, 6))\n",
    "\n",
    "\n",
    "plt.xlabel('SOURCE CITY')\n",
    "plt.ylabel('COUNT OF FLIGHTS')\n",
    "plt.title('SOURCE CITY DISTRIBUTION', pad=20, fontsize=20)\n",
    "plt.xticks(rotation=0)\n",
    "\n",
    "plt.show()\n"
   ]
  },
  {
   "cell_type": "code",
   "execution_count": null,
   "id": "340b0dd8",
   "metadata": {},
   "outputs": [],
   "source": [
    "sns.displot(df2['price'],color='green',kde=True)"
   ]
  },
  {
   "cell_type": "markdown",
   "id": "98f07b4c",
   "metadata": {},
   "source": [
    "# 24/10 - BARBARA"
   ]
  },
  {
   "cell_type": "code",
   "execution_count": null,
   "id": "b3a9e33d",
   "metadata": {},
   "outputs": [],
   "source": [
    "df2=df2.drop('Unnamed: 0', axis=1)"
   ]
  },
  {
   "cell_type": "code",
   "execution_count": null,
   "id": "e53779e1",
   "metadata": {},
   "outputs": [],
   "source": [
    "df2=df2.drop('flight', axis=1)"
   ]
  },
  {
   "cell_type": "code",
   "execution_count": null,
   "id": "3db98a00",
   "metadata": {},
   "outputs": [],
   "source": [
    "cat_cols = list(df2.select_dtypes(include=['object']).columns)\n",
    "print(f\"Number of categorical columns: {len(cat_cols)}\")\n",
    "print(f\"Categorical columns:\\n{cat_cols}\")"
   ]
  },
  {
   "cell_type": "markdown",
   "id": "da194a79",
   "metadata": {},
   "source": [
    "# Performing target encoding for all categorical variables:"
   ]
  },
  {
   "cell_type": "code",
   "execution_count": null,
   "id": "54ca15b2",
   "metadata": {},
   "outputs": [],
   "source": [
    "pip install category_encoders"
   ]
  },
  {
   "cell_type": "code",
   "execution_count": null,
   "id": "ea19766a",
   "metadata": {},
   "outputs": [],
   "source": [
    "import category_encoders as ce\n",
    "\n",
    "te = ce.TargetEncoder(cols=cat_cols)\n",
    "df2 = te.fit_transform(df2, df2['price'])"
   ]
  },
  {
   "cell_type": "code",
   "execution_count": null,
   "id": "8afdcec3",
   "metadata": {},
   "outputs": [],
   "source": [
    "df2"
   ]
  },
  {
   "cell_type": "code",
   "execution_count": null,
   "id": "ec6358b7",
   "metadata": {},
   "outputs": [],
   "source": [
    "numeric_cols = df2.select_dtypes(include=['float64', 'int64']).columns.tolist()\n",
    "print(numeric_cols)"
   ]
  },
  {
   "cell_type": "code",
   "execution_count": null,
   "id": "0729d5f0",
   "metadata": {},
   "outputs": [],
   "source": []
  },
  {
   "cell_type": "code",
   "execution_count": null,
   "id": "38662a90",
   "metadata": {},
   "outputs": [],
   "source": [
    "import numpy as np \n",
    "import pandas as pd \n",
    "import matplotlib.pyplot as plt\n",
    "import seaborn as sns \n",
    "import os\n",
    "from sklearn.cluster import KMeans\n",
    "from sklearn.preprocessing import MinMaxScaler"
   ]
  },
  {
   "cell_type": "markdown",
   "id": "9cc72b73",
   "metadata": {},
   "source": [
    "# Scaling"
   ]
  },
  {
   "cell_type": "code",
   "execution_count": null,
   "id": "55449019",
   "metadata": {},
   "outputs": [],
   "source": [
    "# Min Max Scaler: transformation of data\n",
    "\n",
    "names = df2.columns\n",
    "indexes = df2.index\n",
    "sc = MinMaxScaler((0, 1)) #between 0 and 1 range\n",
    "df2 = sc.fit_transform(df2)\n",
    "data_scaled = pd.DataFrame(df2, columns=names, index=indexes)\n",
    "data_scaled.head()"
   ]
  },
  {
   "cell_type": "code",
   "execution_count": null,
   "id": "5f48ecc6",
   "metadata": {},
   "outputs": [],
   "source": [
    "y = data_scaled['price']\n",
    "X_data = data_scaled.drop(['price'], axis=1)"
   ]
  },
  {
   "cell_type": "markdown",
   "id": "07707b6f",
   "metadata": {},
   "source": [
    "## FEATURE ENGINEERING"
   ]
  },
  {
   "cell_type": "markdown",
   "id": "84a8feb8",
   "metadata": {},
   "source": [
    "**1. Pearson Correlation**"
   ]
  },
  {
   "cell_type": "markdown",
   "id": "c9e98cb0",
   "metadata": {},
   "source": [
    "> Pearson's correlation coefficient serves as a valuable tool in feature engineering for discerning and isolating the most pertinent attirbutes for machine learning model. We can assess the linear relationship between each feature and the target variable by computing the Pearson's correlation coefficient, which also allows us to identify the characteristics that are most effective at predicting the target variable."
   ]
  },
  {
   "cell_type": "code",
   "execution_count": null,
   "id": "6a468d6b",
   "metadata": {},
   "outputs": [],
   "source": [
    "plt.figure(figsize=(25,10))\n",
    "cor = data_scaled.corr()\n",
    "sns.heatmap(cor, annot=True, cmap=plt.cm.Reds)\n",
    "plt.show()"
   ]
  },
  {
   "cell_type": "markdown",
   "id": "9f6c9d01",
   "metadata": {},
   "source": [
    "    Correlation with target variable price"
   ]
  },
  {
   "cell_type": "code",
   "execution_count": null,
   "id": "8172d189",
   "metadata": {},
   "outputs": [],
   "source": [
    "cor_target = abs(cor[\"price\"])\n",
    "\n",
    "relevant_features = cor_target\n",
    "relevant_features "
   ]
  },
  {
   "cell_type": "markdown",
   "id": "43e82c32",
   "metadata": {},
   "source": [
    "> According to Pearsons correlation, our top 4 relevant features are: class, airline, stops and duration."
   ]
  },
  {
   "cell_type": "markdown",
   "id": "39fcfcc7",
   "metadata": {},
   "source": [
    "**2 . Kbest Selection** \n"
   ]
  },
  {
   "cell_type": "markdown",
   "id": "cf8793c3",
   "metadata": {},
   "source": [
    "> The goal of the feature engineering approach known as KBest feature selection is to choose the k most crucial features from a dataset based on some statistical parameter. By choosing just the most informative features, this strategy seeks to minimize the dataset's dimensionality, which can enhance the effectiveness of some machine learning models and lessen overfitting.\n",
    "> \n",
    "> KBest feature selection selects the top k features with the highest scores after rating the features using a statistical measure, such as the chi-squared test, mutual information, or f-score. The particular measure employed depends on the data type and the issue at hand."
   ]
  },
  {
   "cell_type": "code",
   "execution_count": null,
   "id": "dcb93b5c",
   "metadata": {},
   "outputs": [],
   "source": [
    "from sklearn.feature_selection import SelectKBest, f_classif\n",
    "\n",
    "selector = SelectKBest(f_classif, k=4)\n",
    "X_important = selector.fit_transform(X_data, y)\n",
    "\n",
    "# Get a boolean mask of the selected features\n",
    "mask = selector.get_support()\n",
    "\n",
    "# Create a list of the selected feature names\n",
    "important_feature_names = X_data.columns[mask]\n",
    "\n",
    "print(important_feature_names)"
   ]
  },
  {
   "cell_type": "markdown",
   "id": "c44a6a89",
   "metadata": {},
   "source": [
    "> According to Kbest Features, our most important features are 'airline', 'source_city', 'destination_city', and 'class'."
   ]
  },
  {
   "cell_type": "markdown",
   "id": "03bebd83",
   "metadata": {},
   "source": [
    "> ML 1 - segmentacao"
   ]
  },
  {
   "cell_type": "markdown",
   "id": "2a2dd734",
   "metadata": {},
   "source": [
    "> ML 2 - linear regression\n",
    "> preco é variavel resposta\n",
    ">\n",
    "> periodo do dia - transf em numerica (usar como descritiva)\n",
    ">\n",
    "> numero de stops\n",
    "> "
   ]
  },
  {
   "cell_type": "markdown",
   "id": "1f60c6e0",
   "metadata": {},
   "source": [
    "<a id=\"1\"></a>\n",
    "# <p style=\"padding:10px;background-color:lightblue;margin:0;color:white;font-family:arial;font-size:100%;text-align:center;border-radius: 15px 50px;overflow:hidden;font-weight:500\">REFERENCES</p>"
   ]
  },
  {
   "cell_type": "markdown",
   "id": "05c42826",
   "metadata": {},
   "source": [
    "(TO EDIT LATER)\n",
    "! add here all the refereces you have used\n",
    "\n",
    "Dataset: \n",
    "https://www.kaggle.com/datasets/shubhambathwal/flight-price-prediction"
   ]
  }
 ],
 "metadata": {
  "kernelspec": {
   "display_name": "Python 3 (ipykernel)",
   "language": "python",
   "name": "python3"
  },
  "language_info": {
   "codemirror_mode": {
    "name": "ipython",
    "version": 3
   },
   "file_extension": ".py",
   "mimetype": "text/x-python",
   "name": "python",
   "nbconvert_exporter": "python",
   "pygments_lexer": "ipython3",
   "version": "3.9.13"
  }
 },
 "nbformat": 4,
 "nbformat_minor": 5
}
