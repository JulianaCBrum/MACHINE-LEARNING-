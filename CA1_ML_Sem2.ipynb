{
 "cells": [
  {
   "cell_type": "markdown",
   "id": "a1d5c805",
   "metadata": {},
   "source": [
    "<a id=\"1.1\"></a>\n",
    "<h2 style=\"font-family:arial;text-align:center; font-size: 40px; font-style: normal; font-weight: normal; text-decoration: none; text-transform: none; letter-spacing: 2px; color:lightblue; background-color: #ffffff;\"> <b>HDIP DATA ANALYTICS</b></h2>"
   ]
  },
  {
   "cell_type": "markdown",
   "id": "5845ca81",
   "metadata": {},
   "source": [
    "<div style=\"padding:20px;color:white;margin:0;font-size:35px;font-family:arial;text-align:center;display:fill;border-radius:5px;background-color:lightblue;overflow:hidden\"><b>MACHINE LEARNING FOR BUSINESS | SEM 2</b></div>"
   ]
  },
  {
   "cell_type": "markdown",
   "id": "8a5d5c56",
   "metadata": {},
   "source": [
    "Lecturer(s): Dr. Muhammad Iqbal\n",
    "\n",
    "Issue Date: 14th September 2023\n",
    "\n",
    "Submission Deadline Date: 5th November 2023\n",
    "\n",
    "Students: **_Bárbara Abreu Costa 2023099_** | **_Juliana Cristina da Cunha Brum 2023021_** \n",
    "\n",
    "GitHub Repository: https://github.com/JulianaCBrum/MACHINE-LEARNING-"
   ]
  },
  {
   "cell_type": "markdown",
   "id": "36013c8f",
   "metadata": {},
   "source": [
    "-----"
   ]
  },
  {
   "cell_type": "markdown",
   "id": "60ee9aa9",
   "metadata": {},
   "source": [
    "<a id=\"1\"></a>\n",
    "# <p style=\"padding:10px;background-color:lightblue;margin:0;color:white;font-family:arial;font-size:100%;text-align:center;border-radius: 15px 50px;overflow:hidden;font-weight:500\">FLIGHT PRICE</p>"
   ]
  },
  {
   "cell_type": "markdown",
   "id": "7e829035",
   "metadata": {},
   "source": [
    "**_Quick overview of our dataset_** "
   ]
  },
  {
   "cell_type": "markdown",
   "id": "04dec514",
   "metadata": {},
   "source": [
    "> This is a dataset found on Kaggle that contains informations about flight booking options avaiable through the website Easymytrip for flights between the top 6 metropolises in India. Data had been collected in two stages: for business calss ticket and for economy class ticket. The site provided a total 300.261 unique fligh booking possibilities, from February 11 to March 31 of 2022. "
   ]
  },
  {
   "cell_type": "code",
   "execution_count": null,
   "id": "6e8a76c4",
   "metadata": {},
   "outputs": [],
   "source": []
  },
  {
   "cell_type": "markdown",
   "id": "98ab9502",
   "metadata": {},
   "source": [
    "<a id=\"1\"></a>\n",
    "# <p style=\"padding:10px;background-color:lightblue;margin:0;color:white;font-family:arial;font-size:100%;text-align:center;border-radius: 15px 50px;overflow:hidden;font-weight:500\">DICTIONARY</p>"
   ]
  },
  {
   "cell_type": "markdown",
   "id": "5cffc307",
   "metadata": {},
   "source": [
    "|STT | ATTRIBUTE NAME | MEANING |\n",
    "|:---| :--- |:--- |\n",
    "| 0 | Date\n",
    "| 1 | Airline | The name of the airline company is stored in the airline column. It is a categorical feature having 6 different airlines.\n",
    "| 2 | Flight | Flight stores information regarding the plane's flight code. It is a categorical feature.\n",
    "| 3 | Source City | City from which the flight takes off. It is a categorical feature having 6 unique cities.\n",
    "| 4 | Departure Time |This is a derived categorical feature obtained created by grouping time periods into bins. It stores information about the departure time and have 6 unique time labels.\n",
    "| 5 | Stops | A categorical feature with 3 distinct values that stores the number of stops between the source and destination cities.\n",
    "| 6 | Arrival Time | This is a derived categorical feature created by grouping time intervals into bins. It has six distinct time labels and keeps information about the arrival time.\n",
    "| 7 | Destination City | City where the flight will land. It is a categorical feature having 6 unique cities.\n",
    "| 8 | Class | A categorical feature that contains information on seat class; it has two distinct values: Business and Economy.\n",
    "| 9 | Duration | A continuous feature that displays the overall amount of time it takes to travel between cities in hours.\n",
    "| 10 | Days Left | This is a derived characteristic that is calculated by subtracting the trip date by the booking date.\n",
    "| 11 | Price | Target variable stores information of the ticket price."
   ]
  },
  {
   "cell_type": "markdown",
   "id": "eb0f3360",
   "metadata": {},
   "source": [
    "-----"
   ]
  },
  {
   "cell_type": "code",
   "execution_count": 1,
   "id": "cc2d9b03",
   "metadata": {},
   "outputs": [],
   "source": [
    "import pandas as pd\n",
    "import seaborn as sns"
   ]
  },
  {
   "cell_type": "markdown",
   "id": "6c26a412",
   "metadata": {},
   "source": [
    "##### Undertanding our data"
   ]
  },
  {
   "cell_type": "code",
   "execution_count": 2,
   "id": "03f1ba19",
   "metadata": {},
   "outputs": [],
   "source": [
    "df = pd.read_csv('business.csv')"
   ]
  },
  {
   "cell_type": "code",
   "execution_count": 3,
   "id": "eb35d5de",
   "metadata": {},
   "outputs": [
    {
     "data": {
      "text/html": [
       "<div>\n",
       "<style scoped>\n",
       "    .dataframe tbody tr th:only-of-type {\n",
       "        vertical-align: middle;\n",
       "    }\n",
       "\n",
       "    .dataframe tbody tr th {\n",
       "        vertical-align: top;\n",
       "    }\n",
       "\n",
       "    .dataframe thead th {\n",
       "        text-align: right;\n",
       "    }\n",
       "</style>\n",
       "<table border=\"1\" class=\"dataframe\">\n",
       "  <thead>\n",
       "    <tr style=\"text-align: right;\">\n",
       "      <th></th>\n",
       "      <th>date</th>\n",
       "      <th>airline</th>\n",
       "      <th>ch_code</th>\n",
       "      <th>num_code</th>\n",
       "      <th>dep_time</th>\n",
       "      <th>from</th>\n",
       "      <th>time_taken</th>\n",
       "      <th>stop</th>\n",
       "      <th>arr_time</th>\n",
       "      <th>to</th>\n",
       "      <th>price</th>\n",
       "    </tr>\n",
       "  </thead>\n",
       "  <tbody>\n",
       "    <tr>\n",
       "      <th>0</th>\n",
       "      <td>11-02-2022</td>\n",
       "      <td>Air India</td>\n",
       "      <td>AI</td>\n",
       "      <td>868</td>\n",
       "      <td>18:00</td>\n",
       "      <td>Delhi</td>\n",
       "      <td>02h 00m</td>\n",
       "      <td>non-stop</td>\n",
       "      <td>20:00</td>\n",
       "      <td>Mumbai</td>\n",
       "      <td>25,612</td>\n",
       "    </tr>\n",
       "    <tr>\n",
       "      <th>1</th>\n",
       "      <td>11-02-2022</td>\n",
       "      <td>Air India</td>\n",
       "      <td>AI</td>\n",
       "      <td>624</td>\n",
       "      <td>19:00</td>\n",
       "      <td>Delhi</td>\n",
       "      <td>02h 15m</td>\n",
       "      <td>non-stop</td>\n",
       "      <td>21:15</td>\n",
       "      <td>Mumbai</td>\n",
       "      <td>25,612</td>\n",
       "    </tr>\n",
       "    <tr>\n",
       "      <th>2</th>\n",
       "      <td>11-02-2022</td>\n",
       "      <td>Air India</td>\n",
       "      <td>AI</td>\n",
       "      <td>531</td>\n",
       "      <td>20:00</td>\n",
       "      <td>Delhi</td>\n",
       "      <td>24h 45m</td>\n",
       "      <td>1-stop\\n\\t\\t\\t\\t\\t\\t\\t\\t\\t\\t\\t\\t\\n\\t\\t\\t\\t\\t\\t...</td>\n",
       "      <td>20:45</td>\n",
       "      <td>Mumbai</td>\n",
       "      <td>42,220</td>\n",
       "    </tr>\n",
       "    <tr>\n",
       "      <th>3</th>\n",
       "      <td>11-02-2022</td>\n",
       "      <td>Air India</td>\n",
       "      <td>AI</td>\n",
       "      <td>839</td>\n",
       "      <td>21:25</td>\n",
       "      <td>Delhi</td>\n",
       "      <td>26h 30m</td>\n",
       "      <td>1-stop\\n\\t\\t\\t\\t\\t\\t\\t\\t\\t\\t\\t\\t\\n\\t\\t\\t\\t\\t\\t...</td>\n",
       "      <td>23:55</td>\n",
       "      <td>Mumbai</td>\n",
       "      <td>44,450</td>\n",
       "    </tr>\n",
       "    <tr>\n",
       "      <th>4</th>\n",
       "      <td>11-02-2022</td>\n",
       "      <td>Air India</td>\n",
       "      <td>AI</td>\n",
       "      <td>544</td>\n",
       "      <td>17:15</td>\n",
       "      <td>Delhi</td>\n",
       "      <td>06h 40m</td>\n",
       "      <td>1-stop\\n\\t\\t\\t\\t\\t\\t\\t\\t\\t\\t\\t\\t\\n\\t\\t\\t\\t\\t\\t...</td>\n",
       "      <td>23:55</td>\n",
       "      <td>Mumbai</td>\n",
       "      <td>46,690</td>\n",
       "    </tr>\n",
       "    <tr>\n",
       "      <th>5</th>\n",
       "      <td>11-02-2022</td>\n",
       "      <td>Vistara</td>\n",
       "      <td>UK</td>\n",
       "      <td>985</td>\n",
       "      <td>19:50</td>\n",
       "      <td>Delhi</td>\n",
       "      <td>02h 10m</td>\n",
       "      <td>non-stop</td>\n",
       "      <td>22:00</td>\n",
       "      <td>Mumbai</td>\n",
       "      <td>50,264</td>\n",
       "    </tr>\n",
       "    <tr>\n",
       "      <th>6</th>\n",
       "      <td>11-02-2022</td>\n",
       "      <td>Air India</td>\n",
       "      <td>AI</td>\n",
       "      <td>479</td>\n",
       "      <td>21:15</td>\n",
       "      <td>Delhi</td>\n",
       "      <td>17h 45m</td>\n",
       "      <td>1-stop\\n\\t\\t\\t\\t\\t\\t\\t\\t\\t\\t\\t\\t\\n\\t\\t\\t\\t\\t\\t...</td>\n",
       "      <td>15:00</td>\n",
       "      <td>Mumbai</td>\n",
       "      <td>50,669</td>\n",
       "    </tr>\n",
       "    <tr>\n",
       "      <th>7</th>\n",
       "      <td>11-02-2022</td>\n",
       "      <td>Air India</td>\n",
       "      <td>AI</td>\n",
       "      <td>473</td>\n",
       "      <td>18:40</td>\n",
       "      <td>Delhi</td>\n",
       "      <td>22h 45m</td>\n",
       "      <td>1-stop\\n\\t\\t\\t\\t\\t\\t\\t\\t\\t\\t\\t\\t\\n\\t\\t\\t\\t\\t\\t...</td>\n",
       "      <td>17:25</td>\n",
       "      <td>Mumbai</td>\n",
       "      <td>51,059</td>\n",
       "    </tr>\n",
       "    <tr>\n",
       "      <th>8</th>\n",
       "      <td>11-02-2022</td>\n",
       "      <td>Vistara</td>\n",
       "      <td>UK</td>\n",
       "      <td>871</td>\n",
       "      <td>20:35</td>\n",
       "      <td>Delhi</td>\n",
       "      <td>17h 55m</td>\n",
       "      <td>1-stop\\n\\t\\t\\t\\t\\t\\t\\t\\t\\t\\t\\t\\t\\n\\t\\t\\t\\t\\t\\t...</td>\n",
       "      <td>14:30</td>\n",
       "      <td>Mumbai</td>\n",
       "      <td>51,731</td>\n",
       "    </tr>\n",
       "    <tr>\n",
       "      <th>9</th>\n",
       "      <td>11-02-2022</td>\n",
       "      <td>Vistara</td>\n",
       "      <td>UK</td>\n",
       "      <td>977</td>\n",
       "      <td>19:00</td>\n",
       "      <td>Delhi</td>\n",
       "      <td>02h 15m</td>\n",
       "      <td>non-stop</td>\n",
       "      <td>21:15</td>\n",
       "      <td>Mumbai</td>\n",
       "      <td>53,288</td>\n",
       "    </tr>\n",
       "    <tr>\n",
       "      <th>10</th>\n",
       "      <td>11-02-2022</td>\n",
       "      <td>Air India</td>\n",
       "      <td>AI</td>\n",
       "      <td>504</td>\n",
       "      <td>21:35</td>\n",
       "      <td>Delhi</td>\n",
       "      <td>11h 00m</td>\n",
       "      <td>1-stop\\n\\t\\t\\t\\t\\t\\t\\t\\t\\t\\t\\t\\t\\n\\t\\t\\t\\t\\t\\t...</td>\n",
       "      <td>08:35</td>\n",
       "      <td>Mumbai</td>\n",
       "      <td>56,081</td>\n",
       "    </tr>\n",
       "    <tr>\n",
       "      <th>11</th>\n",
       "      <td>11-02-2022</td>\n",
       "      <td>Air India</td>\n",
       "      <td>AI</td>\n",
       "      <td>807</td>\n",
       "      <td>17:20</td>\n",
       "      <td>Delhi</td>\n",
       "      <td>15h 15m</td>\n",
       "      <td>1-stop\\n\\t\\t\\t\\t\\t\\t\\t\\t\\t\\t\\t\\t\\n\\t\\t\\t\\t\\t\\t...</td>\n",
       "      <td>08:35</td>\n",
       "      <td>Mumbai</td>\n",
       "      <td>56,081</td>\n",
       "    </tr>\n",
       "    <tr>\n",
       "      <th>12</th>\n",
       "      <td>11-02-2022</td>\n",
       "      <td>Air India</td>\n",
       "      <td>AI</td>\n",
       "      <td>540</td>\n",
       "      <td>20:40</td>\n",
       "      <td>Delhi</td>\n",
       "      <td>11h 25m</td>\n",
       "      <td>1-stop\\n\\t\\t\\t\\t\\t\\t\\t\\t\\t\\t\\t\\t\\n\\t\\t\\t\\t\\t\\t...</td>\n",
       "      <td>08:05</td>\n",
       "      <td>Mumbai</td>\n",
       "      <td>57,074</td>\n",
       "    </tr>\n",
       "    <tr>\n",
       "      <th>13</th>\n",
       "      <td>11-02-2022</td>\n",
       "      <td>Air India</td>\n",
       "      <td>AI</td>\n",
       "      <td>537</td>\n",
       "      <td>16:15</td>\n",
       "      <td>Delhi</td>\n",
       "      <td>15h 50m</td>\n",
       "      <td>1-stop\\n\\t\\t\\t\\t\\t\\t\\t\\t\\t\\t\\t\\t\\n\\t\\t\\t\\t\\t\\t...</td>\n",
       "      <td>08:05</td>\n",
       "      <td>Mumbai</td>\n",
       "      <td>57,074</td>\n",
       "    </tr>\n",
       "    <tr>\n",
       "      <th>14</th>\n",
       "      <td>11-02-2022</td>\n",
       "      <td>Air India</td>\n",
       "      <td>AI</td>\n",
       "      <td>540</td>\n",
       "      <td>20:40</td>\n",
       "      <td>Delhi</td>\n",
       "      <td>21h 35m</td>\n",
       "      <td>1-stop\\n\\t\\t\\t\\t\\t\\t\\t\\t\\t\\t\\t\\t\\n\\t\\t\\t\\t\\t\\t...</td>\n",
       "      <td>18:15</td>\n",
       "      <td>Mumbai</td>\n",
       "      <td>57,074</td>\n",
       "    </tr>\n",
       "    <tr>\n",
       "      <th>15</th>\n",
       "      <td>11-02-2022</td>\n",
       "      <td>Air India</td>\n",
       "      <td>AI</td>\n",
       "      <td>537</td>\n",
       "      <td>16:15</td>\n",
       "      <td>Delhi</td>\n",
       "      <td>26h 00m</td>\n",
       "      <td>1-stop\\n\\t\\t\\t\\t\\t\\t\\t\\t\\t\\t\\t\\t\\n\\t\\t\\t\\t\\t\\t...</td>\n",
       "      <td>18:15</td>\n",
       "      <td>Mumbai</td>\n",
       "      <td>57,074</td>\n",
       "    </tr>\n",
       "    <tr>\n",
       "      <th>16</th>\n",
       "      <td>11-02-2022</td>\n",
       "      <td>Vistara</td>\n",
       "      <td>UK</td>\n",
       "      <td>817</td>\n",
       "      <td>16:05</td>\n",
       "      <td>Delhi</td>\n",
       "      <td>05h 45m</td>\n",
       "      <td>1-stop\\n\\t\\t\\t\\t\\t\\t\\t\\t\\t\\t\\t\\t\\n\\t\\t\\t\\t\\t\\t...</td>\n",
       "      <td>21:50</td>\n",
       "      <td>Mumbai</td>\n",
       "      <td>57,868</td>\n",
       "    </tr>\n",
       "    <tr>\n",
       "      <th>17</th>\n",
       "      <td>11-02-2022</td>\n",
       "      <td>Vistara</td>\n",
       "      <td>UK</td>\n",
       "      <td>817</td>\n",
       "      <td>16:05</td>\n",
       "      <td>Delhi</td>\n",
       "      <td>16h 10m</td>\n",
       "      <td>1-stop\\n\\t\\t\\t\\t\\t\\t\\t\\t\\t\\t\\t\\t\\n\\t\\t\\t\\t\\t\\t...</td>\n",
       "      <td>08:15</td>\n",
       "      <td>Mumbai</td>\n",
       "      <td>57,868</td>\n",
       "    </tr>\n",
       "    <tr>\n",
       "      <th>18</th>\n",
       "      <td>11-02-2022</td>\n",
       "      <td>Vistara</td>\n",
       "      <td>UK</td>\n",
       "      <td>817</td>\n",
       "      <td>16:05</td>\n",
       "      <td>Delhi</td>\n",
       "      <td>28h 10m</td>\n",
       "      <td>1-stop\\n\\t\\t\\t\\t\\t\\t\\t\\t\\t\\t\\t\\t\\n\\t\\t\\t\\t\\t\\t...</td>\n",
       "      <td>20:15</td>\n",
       "      <td>Mumbai</td>\n",
       "      <td>57,868</td>\n",
       "    </tr>\n",
       "    <tr>\n",
       "      <th>19</th>\n",
       "      <td>11-02-2022</td>\n",
       "      <td>Vistara</td>\n",
       "      <td>UK</td>\n",
       "      <td>817</td>\n",
       "      <td>16:05</td>\n",
       "      <td>Delhi</td>\n",
       "      <td>19h 20m</td>\n",
       "      <td>1-stop\\n\\t\\t\\t\\t\\t\\t\\t\\t\\t\\t\\t\\t\\n\\t\\t\\t\\t\\t\\t...</td>\n",
       "      <td>11:25</td>\n",
       "      <td>Mumbai</td>\n",
       "      <td>59,996</td>\n",
       "    </tr>\n",
       "    <tr>\n",
       "      <th>20</th>\n",
       "      <td>11-02-2022</td>\n",
       "      <td>Air India</td>\n",
       "      <td>AI</td>\n",
       "      <td>762</td>\n",
       "      <td>20:15</td>\n",
       "      <td>Delhi</td>\n",
       "      <td>23h 50m</td>\n",
       "      <td>1-stop\\n\\t\\t\\t\\t\\t\\t\\t\\t\\t\\t\\t\\t\\n\\t\\t\\t\\t\\t\\t...</td>\n",
       "      <td>20:05</td>\n",
       "      <td>Mumbai</td>\n",
       "      <td>61,273</td>\n",
       "    </tr>\n",
       "    <tr>\n",
       "      <th>21</th>\n",
       "      <td>11-02-2022</td>\n",
       "      <td>Air India</td>\n",
       "      <td>AI</td>\n",
       "      <td>764</td>\n",
       "      <td>16:55</td>\n",
       "      <td>Delhi</td>\n",
       "      <td>27h 10m</td>\n",
       "      <td>1-stop\\n\\t\\t\\t\\t\\t\\t\\t\\t\\t\\t\\t\\t\\n\\t\\t\\t\\t\\t\\t...</td>\n",
       "      <td>20:05</td>\n",
       "      <td>Mumbai</td>\n",
       "      <td>61,273</td>\n",
       "    </tr>\n",
       "    <tr>\n",
       "      <th>22</th>\n",
       "      <td>11-02-2022</td>\n",
       "      <td>Vistara</td>\n",
       "      <td>UK</td>\n",
       "      <td>707</td>\n",
       "      <td>17:30</td>\n",
       "      <td>Delhi</td>\n",
       "      <td>06h 00m</td>\n",
       "      <td>1-stop\\n\\t\\t\\t\\t\\t\\t\\t\\t\\t\\t\\t\\t\\n\\t\\t\\t\\t\\t\\t...</td>\n",
       "      <td>23:30</td>\n",
       "      <td>Mumbai</td>\n",
       "      <td>63,737</td>\n",
       "    </tr>\n",
       "    <tr>\n",
       "      <th>23</th>\n",
       "      <td>11-02-2022</td>\n",
       "      <td>Vistara</td>\n",
       "      <td>UK</td>\n",
       "      <td>707</td>\n",
       "      <td>17:30</td>\n",
       "      <td>Delhi</td>\n",
       "      <td>19h 30m</td>\n",
       "      <td>1-stop\\n\\t\\t\\t\\t\\t\\t\\t\\t\\t\\t\\t\\t\\n\\t\\t\\t\\t\\t\\t...</td>\n",
       "      <td>13:00</td>\n",
       "      <td>Mumbai</td>\n",
       "      <td>63,737</td>\n",
       "    </tr>\n",
       "    <tr>\n",
       "      <th>24</th>\n",
       "      <td>11-02-2022</td>\n",
       "      <td>Vistara</td>\n",
       "      <td>UK</td>\n",
       "      <td>707</td>\n",
       "      <td>17:30</td>\n",
       "      <td>Delhi</td>\n",
       "      <td>26h 50m</td>\n",
       "      <td>1-stop\\n\\t\\t\\t\\t\\t\\t\\t\\t\\t\\t\\t\\t\\n\\t\\t\\t\\t\\t\\t...</td>\n",
       "      <td>20:20</td>\n",
       "      <td>Mumbai</td>\n",
       "      <td>63,737</td>\n",
       "    </tr>\n",
       "    <tr>\n",
       "      <th>25</th>\n",
       "      <td>11-02-2022</td>\n",
       "      <td>Vistara</td>\n",
       "      <td>UK</td>\n",
       "      <td>809</td>\n",
       "      <td>19:50</td>\n",
       "      <td>Delhi</td>\n",
       "      <td>12h 25m</td>\n",
       "      <td>1-stop\\n\\t\\t\\t\\t\\t\\t\\t\\t\\t\\t\\t\\t\\n\\t\\t\\t\\t\\t\\t...</td>\n",
       "      <td>08:15</td>\n",
       "      <td>Mumbai</td>\n",
       "      <td>74,640</td>\n",
       "    </tr>\n",
       "    <tr>\n",
       "      <th>26</th>\n",
       "      <td>11-02-2022</td>\n",
       "      <td>Vistara</td>\n",
       "      <td>UK</td>\n",
       "      <td>813</td>\n",
       "      <td>17:35</td>\n",
       "      <td>Delhi</td>\n",
       "      <td>14h 40m</td>\n",
       "      <td>1-stop\\n\\t\\t\\t\\t\\t\\t\\t\\t\\t\\t\\t\\t\\n\\t\\t\\t\\t\\t\\t...</td>\n",
       "      <td>08:15</td>\n",
       "      <td>Mumbai</td>\n",
       "      <td>74,640</td>\n",
       "    </tr>\n",
       "    <tr>\n",
       "      <th>27</th>\n",
       "      <td>11-02-2022</td>\n",
       "      <td>Vistara</td>\n",
       "      <td>UK</td>\n",
       "      <td>809</td>\n",
       "      <td>19:50</td>\n",
       "      <td>Delhi</td>\n",
       "      <td>24h 25m</td>\n",
       "      <td>1-stop\\n\\t\\t\\t\\t\\t\\t\\t\\t\\t\\t\\t\\t\\n\\t\\t\\t\\t\\t\\t...</td>\n",
       "      <td>20:15</td>\n",
       "      <td>Mumbai</td>\n",
       "      <td>74,640</td>\n",
       "    </tr>\n",
       "    <tr>\n",
       "      <th>28</th>\n",
       "      <td>11-02-2022</td>\n",
       "      <td>Vistara</td>\n",
       "      <td>UK</td>\n",
       "      <td>809</td>\n",
       "      <td>19:50</td>\n",
       "      <td>Delhi</td>\n",
       "      <td>26h 00m</td>\n",
       "      <td>1-stop\\n\\t\\t\\t\\t\\t\\t\\t\\t\\t\\t\\t\\t\\n\\t\\t\\t\\t\\t\\t...</td>\n",
       "      <td>21:50</td>\n",
       "      <td>Mumbai</td>\n",
       "      <td>74,640</td>\n",
       "    </tr>\n",
       "    <tr>\n",
       "      <th>29</th>\n",
       "      <td>11-02-2022</td>\n",
       "      <td>Vistara</td>\n",
       "      <td>UK</td>\n",
       "      <td>813</td>\n",
       "      <td>17:35</td>\n",
       "      <td>Delhi</td>\n",
       "      <td>26h 40m</td>\n",
       "      <td>1-stop\\n\\t\\t\\t\\t\\t\\t\\t\\t\\t\\t\\t\\t\\n\\t\\t\\t\\t\\t\\t...</td>\n",
       "      <td>20:15</td>\n",
       "      <td>Mumbai</td>\n",
       "      <td>74,640</td>\n",
       "    </tr>\n",
       "  </tbody>\n",
       "</table>\n",
       "</div>"
      ],
      "text/plain": [
       "          date    airline ch_code  num_code dep_time   from time_taken  \\\n",
       "0   11-02-2022  Air India      AI       868    18:00  Delhi    02h 00m   \n",
       "1   11-02-2022  Air India      AI       624    19:00  Delhi    02h 15m   \n",
       "2   11-02-2022  Air India      AI       531    20:00  Delhi    24h 45m   \n",
       "3   11-02-2022  Air India      AI       839    21:25  Delhi    26h 30m   \n",
       "4   11-02-2022  Air India      AI       544    17:15  Delhi    06h 40m   \n",
       "5   11-02-2022    Vistara      UK       985    19:50  Delhi    02h 10m   \n",
       "6   11-02-2022  Air India      AI       479    21:15  Delhi    17h 45m   \n",
       "7   11-02-2022  Air India      AI       473    18:40  Delhi    22h 45m   \n",
       "8   11-02-2022    Vistara      UK       871    20:35  Delhi    17h 55m   \n",
       "9   11-02-2022    Vistara      UK       977    19:00  Delhi    02h 15m   \n",
       "10  11-02-2022  Air India      AI       504    21:35  Delhi    11h 00m   \n",
       "11  11-02-2022  Air India      AI       807    17:20  Delhi    15h 15m   \n",
       "12  11-02-2022  Air India      AI       540    20:40  Delhi    11h 25m   \n",
       "13  11-02-2022  Air India      AI       537    16:15  Delhi    15h 50m   \n",
       "14  11-02-2022  Air India      AI       540    20:40  Delhi    21h 35m   \n",
       "15  11-02-2022  Air India      AI       537    16:15  Delhi    26h 00m   \n",
       "16  11-02-2022    Vistara      UK       817    16:05  Delhi    05h 45m   \n",
       "17  11-02-2022    Vistara      UK       817    16:05  Delhi    16h 10m   \n",
       "18  11-02-2022    Vistara      UK       817    16:05  Delhi    28h 10m   \n",
       "19  11-02-2022    Vistara      UK       817    16:05  Delhi    19h 20m   \n",
       "20  11-02-2022  Air India      AI       762    20:15  Delhi    23h 50m   \n",
       "21  11-02-2022  Air India      AI       764    16:55  Delhi    27h 10m   \n",
       "22  11-02-2022    Vistara      UK       707    17:30  Delhi    06h 00m   \n",
       "23  11-02-2022    Vistara      UK       707    17:30  Delhi    19h 30m   \n",
       "24  11-02-2022    Vistara      UK       707    17:30  Delhi    26h 50m   \n",
       "25  11-02-2022    Vistara      UK       809    19:50  Delhi    12h 25m   \n",
       "26  11-02-2022    Vistara      UK       813    17:35  Delhi    14h 40m   \n",
       "27  11-02-2022    Vistara      UK       809    19:50  Delhi    24h 25m   \n",
       "28  11-02-2022    Vistara      UK       809    19:50  Delhi    26h 00m   \n",
       "29  11-02-2022    Vistara      UK       813    17:35  Delhi    26h 40m   \n",
       "\n",
       "                                                 stop arr_time      to   price  \n",
       "0                                           non-stop     20:00  Mumbai  25,612  \n",
       "1                                           non-stop     21:15  Mumbai  25,612  \n",
       "2   1-stop\\n\\t\\t\\t\\t\\t\\t\\t\\t\\t\\t\\t\\t\\n\\t\\t\\t\\t\\t\\t...    20:45  Mumbai  42,220  \n",
       "3   1-stop\\n\\t\\t\\t\\t\\t\\t\\t\\t\\t\\t\\t\\t\\n\\t\\t\\t\\t\\t\\t...    23:55  Mumbai  44,450  \n",
       "4   1-stop\\n\\t\\t\\t\\t\\t\\t\\t\\t\\t\\t\\t\\t\\n\\t\\t\\t\\t\\t\\t...    23:55  Mumbai  46,690  \n",
       "5                                           non-stop     22:00  Mumbai  50,264  \n",
       "6   1-stop\\n\\t\\t\\t\\t\\t\\t\\t\\t\\t\\t\\t\\t\\n\\t\\t\\t\\t\\t\\t...    15:00  Mumbai  50,669  \n",
       "7   1-stop\\n\\t\\t\\t\\t\\t\\t\\t\\t\\t\\t\\t\\t\\n\\t\\t\\t\\t\\t\\t...    17:25  Mumbai  51,059  \n",
       "8   1-stop\\n\\t\\t\\t\\t\\t\\t\\t\\t\\t\\t\\t\\t\\n\\t\\t\\t\\t\\t\\t...    14:30  Mumbai  51,731  \n",
       "9                                           non-stop     21:15  Mumbai  53,288  \n",
       "10  1-stop\\n\\t\\t\\t\\t\\t\\t\\t\\t\\t\\t\\t\\t\\n\\t\\t\\t\\t\\t\\t...    08:35  Mumbai  56,081  \n",
       "11  1-stop\\n\\t\\t\\t\\t\\t\\t\\t\\t\\t\\t\\t\\t\\n\\t\\t\\t\\t\\t\\t...    08:35  Mumbai  56,081  \n",
       "12  1-stop\\n\\t\\t\\t\\t\\t\\t\\t\\t\\t\\t\\t\\t\\n\\t\\t\\t\\t\\t\\t...    08:05  Mumbai  57,074  \n",
       "13  1-stop\\n\\t\\t\\t\\t\\t\\t\\t\\t\\t\\t\\t\\t\\n\\t\\t\\t\\t\\t\\t...    08:05  Mumbai  57,074  \n",
       "14  1-stop\\n\\t\\t\\t\\t\\t\\t\\t\\t\\t\\t\\t\\t\\n\\t\\t\\t\\t\\t\\t...    18:15  Mumbai  57,074  \n",
       "15  1-stop\\n\\t\\t\\t\\t\\t\\t\\t\\t\\t\\t\\t\\t\\n\\t\\t\\t\\t\\t\\t...    18:15  Mumbai  57,074  \n",
       "16  1-stop\\n\\t\\t\\t\\t\\t\\t\\t\\t\\t\\t\\t\\t\\n\\t\\t\\t\\t\\t\\t...    21:50  Mumbai  57,868  \n",
       "17  1-stop\\n\\t\\t\\t\\t\\t\\t\\t\\t\\t\\t\\t\\t\\n\\t\\t\\t\\t\\t\\t...    08:15  Mumbai  57,868  \n",
       "18  1-stop\\n\\t\\t\\t\\t\\t\\t\\t\\t\\t\\t\\t\\t\\n\\t\\t\\t\\t\\t\\t...    20:15  Mumbai  57,868  \n",
       "19  1-stop\\n\\t\\t\\t\\t\\t\\t\\t\\t\\t\\t\\t\\t\\n\\t\\t\\t\\t\\t\\t...    11:25  Mumbai  59,996  \n",
       "20  1-stop\\n\\t\\t\\t\\t\\t\\t\\t\\t\\t\\t\\t\\t\\n\\t\\t\\t\\t\\t\\t...    20:05  Mumbai  61,273  \n",
       "21  1-stop\\n\\t\\t\\t\\t\\t\\t\\t\\t\\t\\t\\t\\t\\n\\t\\t\\t\\t\\t\\t...    20:05  Mumbai  61,273  \n",
       "22  1-stop\\n\\t\\t\\t\\t\\t\\t\\t\\t\\t\\t\\t\\t\\n\\t\\t\\t\\t\\t\\t...    23:30  Mumbai  63,737  \n",
       "23  1-stop\\n\\t\\t\\t\\t\\t\\t\\t\\t\\t\\t\\t\\t\\n\\t\\t\\t\\t\\t\\t...    13:00  Mumbai  63,737  \n",
       "24  1-stop\\n\\t\\t\\t\\t\\t\\t\\t\\t\\t\\t\\t\\t\\n\\t\\t\\t\\t\\t\\t...    20:20  Mumbai  63,737  \n",
       "25  1-stop\\n\\t\\t\\t\\t\\t\\t\\t\\t\\t\\t\\t\\t\\n\\t\\t\\t\\t\\t\\t...    08:15  Mumbai  74,640  \n",
       "26  1-stop\\n\\t\\t\\t\\t\\t\\t\\t\\t\\t\\t\\t\\t\\n\\t\\t\\t\\t\\t\\t...    08:15  Mumbai  74,640  \n",
       "27  1-stop\\n\\t\\t\\t\\t\\t\\t\\t\\t\\t\\t\\t\\t\\n\\t\\t\\t\\t\\t\\t...    20:15  Mumbai  74,640  \n",
       "28  1-stop\\n\\t\\t\\t\\t\\t\\t\\t\\t\\t\\t\\t\\t\\n\\t\\t\\t\\t\\t\\t...    21:50  Mumbai  74,640  \n",
       "29  1-stop\\n\\t\\t\\t\\t\\t\\t\\t\\t\\t\\t\\t\\t\\n\\t\\t\\t\\t\\t\\t...    20:15  Mumbai  74,640  "
      ]
     },
     "execution_count": 3,
     "metadata": {},
     "output_type": "execute_result"
    }
   ],
   "source": [
    "df.head(30)"
   ]
  },
  {
   "cell_type": "code",
   "execution_count": 4,
   "id": "53272bd6",
   "metadata": {},
   "outputs": [
    {
     "data": {
      "text/plain": [
       "(93487, 11)"
      ]
     },
     "execution_count": 4,
     "metadata": {},
     "output_type": "execute_result"
    }
   ],
   "source": [
    "df.shape"
   ]
  },
  {
   "cell_type": "code",
   "execution_count": 5,
   "id": "752f12a5",
   "metadata": {},
   "outputs": [
    {
     "data": {
      "text/html": [
       "<div>\n",
       "<style scoped>\n",
       "    .dataframe tbody tr th:only-of-type {\n",
       "        vertical-align: middle;\n",
       "    }\n",
       "\n",
       "    .dataframe tbody tr th {\n",
       "        vertical-align: top;\n",
       "    }\n",
       "\n",
       "    .dataframe thead th {\n",
       "        text-align: right;\n",
       "    }\n",
       "</style>\n",
       "<table border=\"1\" class=\"dataframe\">\n",
       "  <thead>\n",
       "    <tr style=\"text-align: right;\">\n",
       "      <th></th>\n",
       "      <th>date</th>\n",
       "      <th>airline</th>\n",
       "      <th>ch_code</th>\n",
       "      <th>num_code</th>\n",
       "      <th>dep_time</th>\n",
       "      <th>from</th>\n",
       "      <th>time_taken</th>\n",
       "      <th>stop</th>\n",
       "      <th>arr_time</th>\n",
       "      <th>to</th>\n",
       "      <th>price</th>\n",
       "    </tr>\n",
       "  </thead>\n",
       "  <tbody>\n",
       "    <tr>\n",
       "      <th>93482</th>\n",
       "      <td>31-03-2022</td>\n",
       "      <td>Vistara</td>\n",
       "      <td>UK</td>\n",
       "      <td>822</td>\n",
       "      <td>09:45</td>\n",
       "      <td>Chennai</td>\n",
       "      <td>10h 05m</td>\n",
       "      <td>1-stop\\n\\t\\t\\t\\t\\t\\t\\t\\t\\t\\t\\t\\t\\n\\t\\t\\t\\t\\t\\t...</td>\n",
       "      <td>19:50</td>\n",
       "      <td>Hyderabad</td>\n",
       "      <td>69,265</td>\n",
       "    </tr>\n",
       "    <tr>\n",
       "      <th>93483</th>\n",
       "      <td>31-03-2022</td>\n",
       "      <td>Vistara</td>\n",
       "      <td>UK</td>\n",
       "      <td>826</td>\n",
       "      <td>12:30</td>\n",
       "      <td>Chennai</td>\n",
       "      <td>10h 25m</td>\n",
       "      <td>1-stop\\n\\t\\t\\t\\t\\t\\t\\t\\t\\t\\t\\t\\t\\n\\t\\t\\t\\t\\t\\t...</td>\n",
       "      <td>22:55</td>\n",
       "      <td>Hyderabad</td>\n",
       "      <td>77,105</td>\n",
       "    </tr>\n",
       "    <tr>\n",
       "      <th>93484</th>\n",
       "      <td>31-03-2022</td>\n",
       "      <td>Vistara</td>\n",
       "      <td>UK</td>\n",
       "      <td>832</td>\n",
       "      <td>07:05</td>\n",
       "      <td>Chennai</td>\n",
       "      <td>13h 50m</td>\n",
       "      <td>1-stop\\n\\t\\t\\t\\t\\t\\t\\t\\t\\t\\t\\t\\t\\n\\t\\t\\t\\t\\t\\t...</td>\n",
       "      <td>20:55</td>\n",
       "      <td>Hyderabad</td>\n",
       "      <td>79,099</td>\n",
       "    </tr>\n",
       "    <tr>\n",
       "      <th>93485</th>\n",
       "      <td>31-03-2022</td>\n",
       "      <td>Vistara</td>\n",
       "      <td>UK</td>\n",
       "      <td>828</td>\n",
       "      <td>07:00</td>\n",
       "      <td>Chennai</td>\n",
       "      <td>10h 00m</td>\n",
       "      <td>1-stop\\n\\t\\t\\t\\t\\t\\t\\t\\t\\t\\t\\t\\t\\n\\t\\t\\t\\t\\t\\t...</td>\n",
       "      <td>17:00</td>\n",
       "      <td>Hyderabad</td>\n",
       "      <td>81,585</td>\n",
       "    </tr>\n",
       "    <tr>\n",
       "      <th>93486</th>\n",
       "      <td>31-03-2022</td>\n",
       "      <td>Vistara</td>\n",
       "      <td>UK</td>\n",
       "      <td>822</td>\n",
       "      <td>09:45</td>\n",
       "      <td>Chennai</td>\n",
       "      <td>10h 05m</td>\n",
       "      <td>1-stop\\n\\t\\t\\t\\t\\t\\t\\t\\t\\t\\t\\t\\t\\n\\t\\t\\t\\t\\t\\t...</td>\n",
       "      <td>19:50</td>\n",
       "      <td>Hyderabad</td>\n",
       "      <td>81,585</td>\n",
       "    </tr>\n",
       "  </tbody>\n",
       "</table>\n",
       "</div>"
      ],
      "text/plain": [
       "             date  airline ch_code  num_code dep_time     from time_taken  \\\n",
       "93482  31-03-2022  Vistara      UK       822    09:45  Chennai    10h 05m   \n",
       "93483  31-03-2022  Vistara      UK       826    12:30  Chennai    10h 25m   \n",
       "93484  31-03-2022  Vistara      UK       832    07:05  Chennai    13h 50m   \n",
       "93485  31-03-2022  Vistara      UK       828    07:00  Chennai    10h 00m   \n",
       "93486  31-03-2022  Vistara      UK       822    09:45  Chennai    10h 05m   \n",
       "\n",
       "                                                    stop arr_time         to  \\\n",
       "93482  1-stop\\n\\t\\t\\t\\t\\t\\t\\t\\t\\t\\t\\t\\t\\n\\t\\t\\t\\t\\t\\t...    19:50  Hyderabad   \n",
       "93483  1-stop\\n\\t\\t\\t\\t\\t\\t\\t\\t\\t\\t\\t\\t\\n\\t\\t\\t\\t\\t\\t...    22:55  Hyderabad   \n",
       "93484  1-stop\\n\\t\\t\\t\\t\\t\\t\\t\\t\\t\\t\\t\\t\\n\\t\\t\\t\\t\\t\\t...    20:55  Hyderabad   \n",
       "93485  1-stop\\n\\t\\t\\t\\t\\t\\t\\t\\t\\t\\t\\t\\t\\n\\t\\t\\t\\t\\t\\t...    17:00  Hyderabad   \n",
       "93486  1-stop\\n\\t\\t\\t\\t\\t\\t\\t\\t\\t\\t\\t\\t\\n\\t\\t\\t\\t\\t\\t...    19:50  Hyderabad   \n",
       "\n",
       "        price  \n",
       "93482  69,265  \n",
       "93483  77,105  \n",
       "93484  79,099  \n",
       "93485  81,585  \n",
       "93486  81,585  "
      ]
     },
     "execution_count": 5,
     "metadata": {},
     "output_type": "execute_result"
    }
   ],
   "source": [
    "df.tail()"
   ]
  },
  {
   "cell_type": "code",
   "execution_count": 6,
   "id": "ddac90ff",
   "metadata": {},
   "outputs": [
    {
     "data": {
      "text/html": [
       "<div>\n",
       "<style scoped>\n",
       "    .dataframe tbody tr th:only-of-type {\n",
       "        vertical-align: middle;\n",
       "    }\n",
       "\n",
       "    .dataframe tbody tr th {\n",
       "        vertical-align: top;\n",
       "    }\n",
       "\n",
       "    .dataframe thead th {\n",
       "        text-align: right;\n",
       "    }\n",
       "</style>\n",
       "<table border=\"1\" class=\"dataframe\">\n",
       "  <thead>\n",
       "    <tr style=\"text-align: right;\">\n",
       "      <th></th>\n",
       "      <th>num_code</th>\n",
       "    </tr>\n",
       "  </thead>\n",
       "  <tbody>\n",
       "    <tr>\n",
       "      <th>count</th>\n",
       "      <td>93487.000000</td>\n",
       "    </tr>\n",
       "    <tr>\n",
       "      <th>mean</th>\n",
       "      <td>780.056147</td>\n",
       "    </tr>\n",
       "    <tr>\n",
       "      <th>std</th>\n",
       "      <td>147.616038</td>\n",
       "    </tr>\n",
       "    <tr>\n",
       "      <th>min</th>\n",
       "      <td>401.000000</td>\n",
       "    </tr>\n",
       "    <tr>\n",
       "      <th>25%</th>\n",
       "      <td>706.000000</td>\n",
       "    </tr>\n",
       "    <tr>\n",
       "      <th>50%</th>\n",
       "      <td>820.000000</td>\n",
       "    </tr>\n",
       "    <tr>\n",
       "      <th>75%</th>\n",
       "      <td>874.000000</td>\n",
       "    </tr>\n",
       "    <tr>\n",
       "      <th>max</th>\n",
       "      <td>996.000000</td>\n",
       "    </tr>\n",
       "  </tbody>\n",
       "</table>\n",
       "</div>"
      ],
      "text/plain": [
       "           num_code\n",
       "count  93487.000000\n",
       "mean     780.056147\n",
       "std      147.616038\n",
       "min      401.000000\n",
       "25%      706.000000\n",
       "50%      820.000000\n",
       "75%      874.000000\n",
       "max      996.000000"
      ]
     },
     "execution_count": 6,
     "metadata": {},
     "output_type": "execute_result"
    }
   ],
   "source": [
    "df.describe()"
   ]
  },
  {
   "cell_type": "code",
   "execution_count": 7,
   "id": "ae4c022d",
   "metadata": {},
   "outputs": [
    {
     "name": "stdout",
     "output_type": "stream",
     "text": [
      "<class 'pandas.core.frame.DataFrame'>\n",
      "RangeIndex: 93487 entries, 0 to 93486\n",
      "Data columns (total 11 columns):\n",
      " #   Column      Non-Null Count  Dtype \n",
      "---  ------      --------------  ----- \n",
      " 0   date        93487 non-null  object\n",
      " 1   airline     93487 non-null  object\n",
      " 2   ch_code     93487 non-null  object\n",
      " 3   num_code    93487 non-null  int64 \n",
      " 4   dep_time    93487 non-null  object\n",
      " 5   from        93487 non-null  object\n",
      " 6   time_taken  93487 non-null  object\n",
      " 7   stop        93487 non-null  object\n",
      " 8   arr_time    93487 non-null  object\n",
      " 9   to          93487 non-null  object\n",
      " 10  price       93487 non-null  object\n",
      "dtypes: int64(1), object(10)\n",
      "memory usage: 7.8+ MB\n"
     ]
    }
   ],
   "source": [
    "df.info()"
   ]
  },
  {
   "cell_type": "code",
   "execution_count": 8,
   "id": "adf17620",
   "metadata": {},
   "outputs": [
    {
     "data": {
      "text/plain": [
       "date          0\n",
       "airline       0\n",
       "ch_code       0\n",
       "num_code      0\n",
       "dep_time      0\n",
       "from          0\n",
       "time_taken    0\n",
       "stop          0\n",
       "arr_time      0\n",
       "to            0\n",
       "price         0\n",
       "dtype: int64"
      ]
     },
     "execution_count": 8,
     "metadata": {},
     "output_type": "execute_result"
    }
   ],
   "source": [
    "df.isnull().sum()"
   ]
  },
  {
   "cell_type": "markdown",
   "id": "15c4f895",
   "metadata": {},
   "source": [
    "> To ensure data quality and avoid misleading or redundant information, I'll dropping duplicate rows "
   ]
  },
  {
   "cell_type": "code",
   "execution_count": 9,
   "id": "0136525e",
   "metadata": {},
   "outputs": [
    {
     "data": {
      "text/plain": [
       "0"
      ]
     },
     "execution_count": 9,
     "metadata": {},
     "output_type": "execute_result"
    }
   ],
   "source": [
    "df.duplicated().sum()"
   ]
  },
  {
   "cell_type": "code",
   "execution_count": 10,
   "id": "1aa39b18",
   "metadata": {},
   "outputs": [
    {
     "data": {
      "text/plain": [
       "(93487, 11)"
      ]
     },
     "execution_count": 10,
     "metadata": {},
     "output_type": "execute_result"
    }
   ],
   "source": [
    "df.drop_duplicates(inplace=True)\n",
    "df.shape"
   ]
  },
  {
   "cell_type": "markdown",
   "id": "433f81c3",
   "metadata": {},
   "source": [
    "> Check which are the 3 valeus present in the 'stop' column"
   ]
  },
  {
   "cell_type": "code",
   "execution_count": 11,
   "id": "3ec259ba",
   "metadata": {},
   "outputs": [
    {
     "name": "stdout",
     "output_type": "stream",
     "text": [
      "1-stop\\n\\t\\t\\t\\t\\t\\t\\t\\t\\t\\t\\t\\t\\n\\t\\t\\t\\t\\t\\t\\t\\t\\t\\t\\t\\t                   81489\n",
      "non-stop                                                                      8102\n",
      "2+-stop                                                                       1083\n",
      "1-stop\\n\\t\\t\\t\\t\\t\\t\\t\\t\\t\\t\\t\\tVia IDR\\n\\t\\t\\t\\t\\t\\t\\t\\t\\t\\t\\t\\t              810\n",
      "1-stop\\n\\t\\t\\t\\t\\t\\t\\t\\t\\t\\t\\t\\tVia IXU\\n\\t\\t\\t\\t\\t\\t\\t\\t\\t\\t\\t\\t              776\n",
      "1-stop\\n\\t\\t\\t\\t\\t\\t\\t\\t\\t\\t\\t\\tVia PAT\\n\\t\\t\\t\\t\\t\\t\\t\\t\\t\\t\\t\\t              257\n",
      "1-stop\\n\\t\\t\\t\\t\\t\\t\\t\\t\\t\\t\\t\\tVia Patna\\n\\t\\t\\t\\t\\t\\t\\t\\t\\t\\t\\t\\t            242\n",
      "1-stop\\n\\t\\t\\t\\t\\t\\t\\t\\t\\t\\t\\t\\tVia BBI\\n\\t\\t\\t\\t\\t\\t\\t\\t\\t\\t\\t\\t              152\n",
      "1-stop\\n\\t\\t\\t\\t\\t\\t\\t\\t\\t\\t\\t\\tVia STV\\n\\t\\t\\t\\t\\t\\t\\t\\t\\t\\t\\t\\t               93\n",
      "1-stop\\n\\t\\t\\t\\t\\t\\t\\t\\t\\t\\t\\t\\tVia IXE\\n\\t\\t\\t\\t\\t\\t\\t\\t\\t\\t\\t\\t               86\n",
      "1-stop\\n\\t\\t\\t\\t\\t\\t\\t\\t\\t\\t\\t\\tVia Bhubaneswar\\n\\t\\t\\t\\t\\t\\t\\t\\t\\t\\t\\t\\t       75\n",
      "1-stop\\n\\t\\t\\t\\t\\t\\t\\t\\t\\t\\t\\t\\tVia Hyderabad\\n\\t\\t\\t\\t\\t\\t\\t\\t\\t\\t\\t\\t         71\n",
      "1-stop\\n\\t\\t\\t\\t\\t\\t\\t\\t\\t\\t\\t\\tVia Delhi\\n\\t\\t\\t\\t\\t\\t\\t\\t\\t\\t\\t\\t             59\n",
      "1-stop\\n\\t\\t\\t\\t\\t\\t\\t\\t\\t\\t\\t\\tVia Raipur\\n\\t\\t\\t\\t\\t\\t\\t\\t\\t\\t\\t\\t            43\n",
      "1-stop\\n\\t\\t\\t\\t\\t\\t\\t\\t\\t\\t\\t\\tVia Chennai\\n\\t\\t\\t\\t\\t\\t\\t\\t\\t\\t\\t\\t           42\n",
      "1-stop\\n\\t\\t\\t\\t\\t\\t\\t\\t\\t\\t\\t\\tVia Guwahati\\n\\t\\t\\t\\t\\t\\t\\t\\t\\t\\t\\t\\t          29\n",
      "1-stop\\n\\t\\t\\t\\t\\t\\t\\t\\t\\t\\t\\t\\tVia VTZ\\n\\t\\t\\t\\t\\t\\t\\t\\t\\t\\t\\t\\t               17\n",
      "1-stop\\n\\t\\t\\t\\t\\t\\t\\t\\t\\t\\t\\t\\tVia NDC\\n\\t\\t\\t\\t\\t\\t\\t\\t\\t\\t\\t\\t               14\n",
      "1-stop\\n\\t\\t\\t\\t\\t\\t\\t\\t\\t\\t\\t\\tVia Kolkata\\n\\t\\t\\t\\t\\t\\t\\t\\t\\t\\t\\t\\t           14\n",
      "1-stop\\n\\t\\t\\t\\t\\t\\t\\t\\t\\t\\t\\t\\tVia RPR\\n\\t\\t\\t\\t\\t\\t\\t\\t\\t\\t\\t\\t               13\n",
      "1-stop\\n\\t\\t\\t\\t\\t\\t\\t\\t\\t\\t\\t\\tVia Lucknow\\n\\t\\t\\t\\t\\t\\t\\t\\t\\t\\t\\t\\t           10\n",
      "1-stop\\n\\t\\t\\t\\t\\t\\t\\t\\t\\t\\t\\t\\tVia GAU\\n\\t\\t\\t\\t\\t\\t\\t\\t\\t\\t\\t\\t                3\n",
      "1-stop\\n\\t\\t\\t\\t\\t\\t\\t\\t\\t\\t\\t\\tVia GAY\\n\\t\\t\\t\\t\\t\\t\\t\\t\\t\\t\\t\\t                3\n",
      "1-stop\\n\\t\\t\\t\\t\\t\\t\\t\\t\\t\\t\\t\\tVia Surat\\n\\t\\t\\t\\t\\t\\t\\t\\t\\t\\t\\t\\t              3\n",
      "1-stop\\n\\t\\t\\t\\t\\t\\t\\t\\t\\t\\t\\t\\tVia HYD\\n\\t\\t\\t\\t\\t\\t\\t\\t\\t\\t\\t\\t                1\n",
      "Name: stop, dtype: int64\n"
     ]
    }
   ],
   "source": [
    "value_counts = df['stop'].value_counts()\n",
    "print(value_counts)"
   ]
  },
  {
   "cell_type": "markdown",
   "id": "8318dbd0",
   "metadata": {},
   "source": [
    "> Using .fillna() function to inplace new values to the 'stop' column"
   ]
  },
  {
   "cell_type": "code",
   "execution_count": 12,
   "id": "0ef1d719",
   "metadata": {},
   "outputs": [],
   "source": [
    "df['stop'].replace('1-stop\\n\\t\\t\\t\\t\\t\\t\\t\\t\\t\\t\\t\\t\\n\\t\\t\\t\\t\\t\\t\\t\\t\\t\\t\\t\\t', '01', inplace=True)\n",
    "df['stop'].replace('non-stop', '03', inplace=True)\n",
    "df['stop'].replace('2+-stop', '02', inplace=True)\n",
    "df['stop'].replace('1-stop\\n\\t\\t\\t\\t\\t\\t\\t\\t\\t\\t\\t\\tVia IDR\\n\\t\\t\\t\\t\\t\\t\\t\\t\\t\\t\\t\\t', '01', inplace=True)\n",
    "df['stop'].replace('1-stop\\n\\t\\t\\t\\t\\t\\t\\t\\t\\t\\t\\t\\tVia IXU\\n\\t\\t\\t\\t\\t\\t\\t\\t\\t\\t\\t\\t', '01', inplace=True)\n",
    "df['stop'].replace('1-stop\\n\\t\\t\\t\\t\\t\\t\\t\\t\\t\\t\\t\\tVia PAT\\n\\t\\t\\t\\t\\t\\t\\t\\t\\t\\t\\t\\t', '01', inplace=True)\n",
    "df['stop'].replace('1-stop\\n\\t\\t\\t\\t\\t\\t\\t\\t\\t\\t\\t\\tVia Patna\\n\\t\\t\\t\\t\\t\\t\\t\\t\\t\\t\\t\\t', '01', inplace=True)\n",
    "df['stop'].replace('1-stop\\n\\t\\t\\t\\t\\t\\t\\t\\t\\t\\t\\t\\tVia BBI\\n\\t\\t\\t\\t\\t\\t\\t\\t\\t\\t\\t\\t', '01', inplace=True)\n",
    "df['stop'].replace('1-stop\\n\\t\\t\\t\\t\\t\\t\\t\\t\\t\\t\\t\\tVia STV\\n\\t\\t\\t\\t\\t\\t\\t\\t\\t\\t\\t\\t', '01', inplace=True)\n",
    "df['stop'].replace('1-stop\\n\\t\\t\\t\\t\\t\\t\\t\\t\\t\\t\\t\\tVia IXE\\n\\t\\t\\t\\t\\t\\t\\t\\t\\t\\t\\t\\t', '01', inplace=True)\n",
    "df['stop'].replace('1-stop\\n\\t\\t\\t\\t\\t\\t\\t\\t\\t\\t\\t\\tVia Bhubaneswar\\n\\t\\t\\t\\t\\t\\t\\t\\t\\t\\t\\t\\t', '01', inplace=True)\n",
    "df['stop'].replace('1-stop\\n\\t\\t\\t\\t\\t\\t\\t\\t\\t\\t\\t\\tVia Hyderabad\\n\\t\\t\\t\\t\\t\\t\\t\\t\\t\\t\\t\\t', '01', inplace=True)\n",
    "df['stop'].replace('1-stop\\n\\t\\t\\t\\t\\t\\t\\t\\t\\t\\t\\t\\tVia Delhi\\n\\t\\t\\t\\t\\t\\t\\t\\t\\t\\t\\t\\t', '01', inplace=True)\n",
    "df['stop'].replace('1-stop\\n\\t\\t\\t\\t\\t\\t\\t\\t\\t\\t\\t\\tVia Raipur\\n\\t\\t\\t\\t\\t\\t\\t\\t\\t\\t\\t\\t', '01', inplace=True)\n",
    "df['stop'].replace('1-stop\\n\\t\\t\\t\\t\\t\\t\\t\\t\\t\\t\\t\\tVia Chennai\\n\\t\\t\\t\\t\\t\\t\\t\\t\\t\\t\\t\\t', '01', inplace=True)\n",
    "df['stop'].replace('1-stop\\n\\t\\t\\t\\t\\t\\t\\t\\t\\t\\t\\t\\tVia Guwahati\\n\\t\\t\\t\\t\\t\\t\\t\\t\\t\\t\\t\\t', '01', inplace=True)\n",
    "df['stop'].replace('1-stop\\n\\t\\t\\t\\t\\t\\t\\t\\t\\t\\t\\t\\tVia VTZ\\n\\t\\t\\t\\t\\t\\t\\t\\t\\t\\t\\t\\t', '01', inplace=True)\n",
    "df['stop'].replace('1-stop\\n\\t\\t\\t\\t\\t\\t\\t\\t\\t\\t\\t\\tVia Kolkata\\n\\t\\t\\t\\t\\t\\t\\t\\t\\t\\t\\t\\t', '01', inplace=True)\n",
    "df['stop'].replace('1-stop\\n\\t\\t\\t\\t\\t\\t\\t\\t\\t\\t\\t\\tVia RPR\\n\\t\\t\\t\\t\\t\\t\\t\\t\\t\\t\\t\\t', '01', inplace=True)\n",
    "df['stop'].replace('1-stop\\n\\t\\t\\t\\t\\t\\t\\t\\t\\t\\t\\t\\tVia NDC\\n\\t\\t\\t\\t\\t\\t\\t\\t\\t\\t\\t\\t', '01', inplace=True)\n",
    "df['stop'].replace('1-stop\\n\\t\\t\\t\\t\\t\\t\\t\\t\\t\\t\\t\\tVia Lucknow\\n\\t\\t\\t\\t\\t\\t\\t\\t\\t\\t\\t\\t', '01', inplace=True)\n",
    "df['stop'].replace('1-stop\\n\\t\\t\\t\\t\\t\\t\\t\\t\\t\\t\\t\\tVia GAU\\n\\t\\t\\t\\t\\t\\t\\t\\t\\t\\t\\t\\t', '01', inplace=True)\n",
    "df['stop'].replace('1-stop\\n\\t\\t\\t\\t\\t\\t\\t\\t\\t\\t\\t\\tVia GAY\\n\\t\\t\\t\\t\\t\\t\\t\\t\\t\\t\\t\\t', '01', inplace=True)\n",
    "df['stop'].replace('1-stop\\n\\t\\t\\t\\t\\t\\t\\t\\t\\t\\t\\t\\tVia Surat\\n\\t\\t\\t\\t\\t\\t\\t\\t\\t\\t\\t\\t', '01', inplace=True)\n",
    "df['stop'].replace('1-stop\\n\\t\\t\\t\\t\\t\\t\\t\\t\\t\\t\\t\\tVia HYD\\n\\t\\t\\t\\t\\t\\t\\t\\t\\t\\t\\t\\t', '01', inplace=True)"
   ]
  },
  {
   "cell_type": "code",
   "execution_count": 13,
   "id": "0fa4eb89",
   "metadata": {},
   "outputs": [
    {
     "name": "stdout",
     "output_type": "stream",
     "text": [
      "01           84302\n",
      "non-stop      8102\n",
      "02            1083\n",
      "Name: stop, dtype: int64\n"
     ]
    }
   ],
   "source": [
    "value_counts = df['stop'].value_counts()\n",
    "print(value_counts)"
   ]
  },
  {
   "cell_type": "markdown",
   "id": "6358c4d2",
   "metadata": {},
   "source": [
    "**! NOTE - review**: Don't know why non-stop is not replacing"
   ]
  },
  {
   "cell_type": "code",
   "execution_count": 14,
   "id": "e412c9e3",
   "metadata": {},
   "outputs": [],
   "source": [
    "df['stop'] = df['stop'].str.strip()\n",
    "df['stop'].replace('non-stop', '03', inplace=True)"
   ]
  },
  {
   "cell_type": "code",
   "execution_count": 15,
   "id": "641b490c",
   "metadata": {},
   "outputs": [
    {
     "data": {
      "text/html": [
       "<div>\n",
       "<style scoped>\n",
       "    .dataframe tbody tr th:only-of-type {\n",
       "        vertical-align: middle;\n",
       "    }\n",
       "\n",
       "    .dataframe tbody tr th {\n",
       "        vertical-align: top;\n",
       "    }\n",
       "\n",
       "    .dataframe thead th {\n",
       "        text-align: right;\n",
       "    }\n",
       "</style>\n",
       "<table border=\"1\" class=\"dataframe\">\n",
       "  <thead>\n",
       "    <tr style=\"text-align: right;\">\n",
       "      <th></th>\n",
       "      <th>date</th>\n",
       "      <th>airline</th>\n",
       "      <th>ch_code</th>\n",
       "      <th>num_code</th>\n",
       "      <th>dep_time</th>\n",
       "      <th>from</th>\n",
       "      <th>time_taken</th>\n",
       "      <th>stop</th>\n",
       "      <th>arr_time</th>\n",
       "      <th>to</th>\n",
       "      <th>price</th>\n",
       "    </tr>\n",
       "  </thead>\n",
       "  <tbody>\n",
       "    <tr>\n",
       "      <th>0</th>\n",
       "      <td>11-02-2022</td>\n",
       "      <td>Air India</td>\n",
       "      <td>AI</td>\n",
       "      <td>868</td>\n",
       "      <td>18:00</td>\n",
       "      <td>Delhi</td>\n",
       "      <td>02h 00m</td>\n",
       "      <td>03</td>\n",
       "      <td>20:00</td>\n",
       "      <td>Mumbai</td>\n",
       "      <td>25,612</td>\n",
       "    </tr>\n",
       "    <tr>\n",
       "      <th>1</th>\n",
       "      <td>11-02-2022</td>\n",
       "      <td>Air India</td>\n",
       "      <td>AI</td>\n",
       "      <td>624</td>\n",
       "      <td>19:00</td>\n",
       "      <td>Delhi</td>\n",
       "      <td>02h 15m</td>\n",
       "      <td>03</td>\n",
       "      <td>21:15</td>\n",
       "      <td>Mumbai</td>\n",
       "      <td>25,612</td>\n",
       "    </tr>\n",
       "    <tr>\n",
       "      <th>2</th>\n",
       "      <td>11-02-2022</td>\n",
       "      <td>Air India</td>\n",
       "      <td>AI</td>\n",
       "      <td>531</td>\n",
       "      <td>20:00</td>\n",
       "      <td>Delhi</td>\n",
       "      <td>24h 45m</td>\n",
       "      <td>01</td>\n",
       "      <td>20:45</td>\n",
       "      <td>Mumbai</td>\n",
       "      <td>42,220</td>\n",
       "    </tr>\n",
       "    <tr>\n",
       "      <th>3</th>\n",
       "      <td>11-02-2022</td>\n",
       "      <td>Air India</td>\n",
       "      <td>AI</td>\n",
       "      <td>839</td>\n",
       "      <td>21:25</td>\n",
       "      <td>Delhi</td>\n",
       "      <td>26h 30m</td>\n",
       "      <td>01</td>\n",
       "      <td>23:55</td>\n",
       "      <td>Mumbai</td>\n",
       "      <td>44,450</td>\n",
       "    </tr>\n",
       "    <tr>\n",
       "      <th>4</th>\n",
       "      <td>11-02-2022</td>\n",
       "      <td>Air India</td>\n",
       "      <td>AI</td>\n",
       "      <td>544</td>\n",
       "      <td>17:15</td>\n",
       "      <td>Delhi</td>\n",
       "      <td>06h 40m</td>\n",
       "      <td>01</td>\n",
       "      <td>23:55</td>\n",
       "      <td>Mumbai</td>\n",
       "      <td>46,690</td>\n",
       "    </tr>\n",
       "  </tbody>\n",
       "</table>\n",
       "</div>"
      ],
      "text/plain": [
       "         date    airline ch_code  num_code dep_time   from time_taken stop  \\\n",
       "0  11-02-2022  Air India      AI       868    18:00  Delhi    02h 00m   03   \n",
       "1  11-02-2022  Air India      AI       624    19:00  Delhi    02h 15m   03   \n",
       "2  11-02-2022  Air India      AI       531    20:00  Delhi    24h 45m   01   \n",
       "3  11-02-2022  Air India      AI       839    21:25  Delhi    26h 30m   01   \n",
       "4  11-02-2022  Air India      AI       544    17:15  Delhi    06h 40m   01   \n",
       "\n",
       "  arr_time      to   price  \n",
       "0    20:00  Mumbai  25,612  \n",
       "1    21:15  Mumbai  25,612  \n",
       "2    20:45  Mumbai  42,220  \n",
       "3    23:55  Mumbai  44,450  \n",
       "4    23:55  Mumbai  46,690  "
      ]
     },
     "execution_count": 15,
     "metadata": {},
     "output_type": "execute_result"
    }
   ],
   "source": [
    "df.head()"
   ]
  },
  {
   "cell_type": "code",
   "execution_count": 16,
   "id": "1c3e8d47",
   "metadata": {},
   "outputs": [
    {
     "name": "stdout",
     "output_type": "stream",
     "text": [
      "01    84302\n",
      "03     8102\n",
      "02     1083\n",
      "Name: stop, dtype: int64\n"
     ]
    }
   ],
   "source": [
    "value_counts = df['stop'].value_counts()\n",
    "print(value_counts)"
   ]
  },
  {
   "cell_type": "markdown",
   "id": "7f4739b5",
   "metadata": {},
   "source": [
    "##### Top 5 Airline by count"
   ]
  },
  {
   "cell_type": "code",
   "execution_count": 17,
   "id": "9f03670c",
   "metadata": {},
   "outputs": [
    {
     "name": "stdout",
     "output_type": "stream",
     "text": [
      "Mumbai       19858\n",
      "Delhi        18316\n",
      "Bangalore    16441\n",
      "Kolkata      13473\n",
      "Hyderabad    12870\n",
      "Chennai      12529\n",
      "Name: from, dtype: int64\n"
     ]
    }
   ],
   "source": [
    "value_counts = df['from'].value_counts()\n",
    "print(value_counts)"
   ]
  },
  {
   "cell_type": "markdown",
   "id": "f75cc379",
   "metadata": {},
   "source": [
    "**NOTE:** There are 6 airline companies, but in the plot below we  only see two (?)"
   ]
  },
  {
   "cell_type": "code",
   "execution_count": 18,
   "id": "01b3735d",
   "metadata": {},
   "outputs": [],
   "source": [
    "import matplotlib.pyplot as plt"
   ]
  },
  {
   "cell_type": "code",
   "execution_count": 19,
   "id": "47d6db3c",
   "metadata": {},
   "outputs": [
    {
     "data": {
      "image/png": "[encoded data removed]",
      "text/plain": [
       "<Figure size 500x500 with 1 Axes>"
      ]
     },
     "metadata": {},
     "output_type": "display_data"
    }
   ],
   "source": [
    "df_group = df.groupby(df[\"airline\"]).count()\n",
    "df_group_sorted = df_group.sort_values(by=[\"from\"], ascending=False)\n",
    "df_group_sorted\n",
    "\n",
    "df_label = []\n",
    "for airline in df_group_sorted.head().index:\n",
    "    df_label.append(airline)\n",
    "\n",
    "plt.figure(figsize=(5,5))\n",
    "plt.pie(df_group_sorted[\"from\"].head(), labels=df_label, autopct=\"%.1f%%\")\n",
    "plt.show()"
   ]
  },
  {
   "cell_type": "markdown",
   "id": "1bcdc126",
   "metadata": {},
   "source": [
    "##### Top Departure cities by journey"
   ]
  },
  {
   "cell_type": "code",
   "execution_count": 20,
   "id": "4b67dc82",
   "metadata": {},
   "outputs": [
    {
     "data": {
      "image/png": "[encoded data removed]",
      "text/plain": [
       "<Figure size 640x480 with 1 Axes>"
      ]
     },
     "metadata": {},
     "output_type": "display_data"
    }
   ],
   "source": [
    "plt.hist(df[\"from\"])\n",
    "plt.show()"
   ]
  },
  {
   "cell_type": "markdown",
   "id": "df2ac946",
   "metadata": {},
   "source": [
    "##### Top destination cities by journey"
   ]
  },
  {
   "cell_type": "code",
   "execution_count": 22,
   "id": "15dc3656",
   "metadata": {},
   "outputs": [
    {
     "data": {
      "image/png": "[encoded data removed]",
      "text/plain": [
       "<Figure size 640x480 with 1 Axes>"
      ]
     },
     "metadata": {},
     "output_type": "display_data"
    }
   ],
   "source": [
    "plt.hist(df[\"to\"])\n",
    "plt.show()"
   ]
  },
  {
   "cell_type": "markdown",
   "id": "2cc026f9",
   "metadata": {},
   "source": [
    "##### Analysing the correlation between flight duration and price"
   ]
  },
  {
   "cell_type": "code",
   "execution_count": 43,
   "id": "b73fc409",
   "metadata": {},
   "outputs": [],
   "source": [
    "def dur_conv(duration):\n",
    "    dur_split = re.split('[:]', duration)\n",
    "   \n",
    "    dur_in_min = 0\n",
    "    \n",
    "    for dur in range(0,len(dur_split)):\n",
    "        if dur_split[dur] != \"\":\n",
    "            if dur == 0:\n",
    "                dur_in_min = int(dur_split[dur]) * 60\n",
    "            elif dur == 1:\n",
    "                dur_in_min = dur_in_min + int(dur_split[dur])\n",
    "    return dur_in_min"
   ]
  },
  {
   "cell_type": "code",
   "execution_count": 44,
   "id": "b72a7244",
   "metadata": {},
   "outputs": [
    {
     "data": {
      "image/png": "[encoded data removed]",
      "text/plain": [
       "<Figure size 1500x500 with 1 Axes>"
      ]
     },
     "metadata": {},
     "output_type": "display_data"
    }
   ],
   "source": [
    "import regex as re\n",
    "\n",
    "df[\"arr_time\"] = df[\"arr_time\"].apply(dur_conv)\n",
    "\n",
    "plt.figure(figsize=(15,5))\n",
    "sns.scatterplot(x=\"arr_time\", y=\"price\", data=df)\n",
    "plt.show()"
   ]
  },
  {
   "cell_type": "code",
   "execution_count": null,
   "id": "a7d80cce",
   "metadata": {},
   "outputs": [],
   "source": []
  },
  {
   "cell_type": "code",
   "execution_count": null,
   "id": "97b2341b",
   "metadata": {},
   "outputs": [],
   "source": []
  },
  {
   "cell_type": "markdown",
   "id": "665c6841",
   "metadata": {},
   "source": [
    "<a id=\"1\"></a>\n",
    "# <p style=\"padding:10px;background-color:lightblue;margin:0;color:white;font-family:arial;font-size:100%;text-align:center;border-radius: 15px 50px;overflow:hidden;font-weight:500\">BARBARA'S APPROCHE</p>"
   ]
  },
  {
   "cell_type": "markdown",
   "id": "f9fe7777",
   "metadata": {},
   "source": [
    "> Since my partner choce to focusing on 'time series' analysis I decided to applied clustering.\n",
    ">\n",
    "> Between the avaibles features in our dataset such as 'airline', 'from' and 'to' I will experiment differents combiantions to see what yields can be the most meaningful cluster"
   ]
  },
  {
   "cell_type": "markdown",
   "id": "7ca59e94",
   "metadata": {},
   "source": [
    "Applying Clustering on the 'from' column"
   ]
  },
  {
   "cell_type": "code",
   "execution_count": 23,
   "id": "e7b13dd3",
   "metadata": {},
   "outputs": [
    {
     "name": "stdout",
     "output_type": "stream",
     "text": [
      "Mumbai       19858\n",
      "Delhi        18316\n",
      "Bangalore    16441\n",
      "Kolkata      13473\n",
      "Hyderabad    12870\n",
      "Chennai      12529\n",
      "Name: from, dtype: int64\n"
     ]
    }
   ],
   "source": [
    "from_counts = df['from'].value_counts()\n",
    "print(from_counts)"
   ]
  },
  {
   "cell_type": "code",
   "execution_count": 24,
   "id": "7bbba45d",
   "metadata": {},
   "outputs": [],
   "source": [
    "columns_to_drop = ['date', 'airline', 'ch_code', 'num_code', 'dep_time', 'time_taken', 'stop', 'arr_time', 'to', 'price']\n",
    "df_cluster = df.drop(columns=columns_to_drop)"
   ]
  },
  {
   "cell_type": "markdown",
   "id": "4af97cae",
   "metadata": {},
   "source": [
    "**CLUSTERING**"
   ]
  },
  {
   "cell_type": "code",
   "execution_count": 25,
   "id": "e9c5dc40",
   "metadata": {},
   "outputs": [],
   "source": [
    "df_cluster = pd.get_dummies(df_cluster, columns=['from'])"
   ]
  },
  {
   "cell_type": "code",
   "execution_count": 26,
   "id": "6633c7bc",
   "metadata": {},
   "outputs": [
    {
     "name": "stdout",
     "output_type": "stream",
     "text": [
      "   from_Bangalore  from_Chennai  from_Delhi  from_Hyderabad  from_Kolkata  \\\n",
      "0               0             0           1               0             0   \n",
      "1               0             0           1               0             0   \n",
      "2               0             0           1               0             0   \n",
      "3               0             0           1               0             0   \n",
      "4               0             0           1               0             0   \n",
      "\n",
      "   from_Mumbai  \n",
      "0            0  \n",
      "1            0  \n",
      "2            0  \n",
      "3            0  \n",
      "4            0  \n"
     ]
    }
   ],
   "source": [
    "print(df_cluster.head())"
   ]
  },
  {
   "cell_type": "code",
   "execution_count": null,
   "id": "ed0d417d",
   "metadata": {},
   "outputs": [],
   "source": []
  },
  {
   "cell_type": "code",
   "execution_count": 27,
   "id": "1bc5498c",
   "metadata": {},
   "outputs": [
    {
     "name": "stderr",
     "output_type": "stream",
     "text": [
      "C:\\Users\\barba\\AppData\\Roaming\\Python\\Python39\\site-packages\\sklearn\\cluster\\_kmeans.py:1412: FutureWarning: The default value of `n_init` will change from 10 to 'auto' in 1.4. Set the value of `n_init` explicitly to suppress the warning\n",
      "  super()._check_params_vs_input(X, default_n_init=10)\n"
     ]
    }
   ],
   "source": [
    "from sklearn.cluster import KMeans\n",
    "kmeans = KMeans(n_clusters=3, random_state=0)\n",
    "df_cluster['cluster'] = kmeans.fit_predict(df_cluster)"
   ]
  },
  {
   "cell_type": "code",
   "execution_count": 28,
   "id": "4e705cfe",
   "metadata": {},
   "outputs": [
    {
     "name": "stdout",
     "output_type": "stream",
     "text": [
      "   from_Bangalore  from_Chennai  from_Delhi  from_Hyderabad  from_Kolkata  \\\n",
      "0               0             0           1               0             0   \n",
      "1               0             0           1               0             0   \n",
      "2               0             0           1               0             0   \n",
      "3               0             0           1               0             0   \n",
      "4               0             0           1               0             0   \n",
      "\n",
      "   from_Mumbai  cluster  \n",
      "0            0        2  \n",
      "1            0        2  \n",
      "2            0        2  \n",
      "3            0        2  \n",
      "4            0        2  \n"
     ]
    }
   ],
   "source": [
    "print(df_cluster.head())"
   ]
  },
  {
   "cell_type": "code",
   "execution_count": 29,
   "id": "b1f768c0",
   "metadata": {},
   "outputs": [
    {
     "name": "stdout",
     "output_type": "stream",
     "text": [
      "The average silhouette_score is: 0.5580917013277181\n"
     ]
    }
   ],
   "source": [
    "from sklearn.metrics import silhouette_score\n",
    "X = df_cluster.drop(columns=['cluster'])\n",
    "silhouette_avg = silhouette_score(X, df_cluster['cluster'])\n",
    "print(f\"The average silhouette_score is: {silhouette_avg}\")"
   ]
  },
  {
   "cell_type": "code",
   "execution_count": null,
   "id": "b15fa02c",
   "metadata": {},
   "outputs": [],
   "source": []
  },
  {
   "cell_type": "code",
   "execution_count": null,
   "id": "453636fa",
   "metadata": {},
   "outputs": [],
   "source": []
  },
  {
   "cell_type": "code",
   "execution_count": 30,
   "id": "a2313795",
   "metadata": {},
   "outputs": [],
   "source": [
    "# Checking the full dataset with both classes - business & economy"
   ]
  },
  {
   "cell_type": "code",
   "execution_count": 31,
   "id": "1c76cb52",
   "metadata": {},
   "outputs": [],
   "source": [
    "df2 = pd.read_csv('all_classes.csv')"
   ]
  },
  {
   "cell_type": "code",
   "execution_count": 47,
   "id": "6f9a37da",
   "metadata": {},
   "outputs": [
    {
     "data": {
      "text/html": [
       "<div>\n",
       "<style scoped>\n",
       "    .dataframe tbody tr th:only-of-type {\n",
       "        vertical-align: middle;\n",
       "    }\n",
       "\n",
       "    .dataframe tbody tr th {\n",
       "        vertical-align: top;\n",
       "    }\n",
       "\n",
       "    .dataframe thead th {\n",
       "        text-align: right;\n",
       "    }\n",
       "</style>\n",
       "<table border=\"1\" class=\"dataframe\">\n",
       "  <thead>\n",
       "    <tr style=\"text-align: right;\">\n",
       "      <th></th>\n",
       "      <th>Unnamed: 0</th>\n",
       "      <th>airline</th>\n",
       "      <th>flight</th>\n",
       "      <th>source_city</th>\n",
       "      <th>departure_time</th>\n",
       "      <th>stops</th>\n",
       "      <th>arrival_time</th>\n",
       "      <th>destination_city</th>\n",
       "      <th>class</th>\n",
       "      <th>duration</th>\n",
       "      <th>days_left</th>\n",
       "      <th>price</th>\n",
       "    </tr>\n",
       "  </thead>\n",
       "  <tbody>\n",
       "    <tr>\n",
       "      <th>0</th>\n",
       "      <td>0</td>\n",
       "      <td>SpiceJet</td>\n",
       "      <td>SG-8709</td>\n",
       "      <td>Delhi</td>\n",
       "      <td>Evening</td>\n",
       "      <td>zero</td>\n",
       "      <td>Night</td>\n",
       "      <td>Mumbai</td>\n",
       "      <td>Economy</td>\n",
       "      <td>2.17</td>\n",
       "      <td>1</td>\n",
       "      <td>5953</td>\n",
       "    </tr>\n",
       "    <tr>\n",
       "      <th>1</th>\n",
       "      <td>1</td>\n",
       "      <td>SpiceJet</td>\n",
       "      <td>SG-8157</td>\n",
       "      <td>Delhi</td>\n",
       "      <td>Early_Morning</td>\n",
       "      <td>zero</td>\n",
       "      <td>Morning</td>\n",
       "      <td>Mumbai</td>\n",
       "      <td>Economy</td>\n",
       "      <td>2.33</td>\n",
       "      <td>1</td>\n",
       "      <td>5953</td>\n",
       "    </tr>\n",
       "    <tr>\n",
       "      <th>2</th>\n",
       "      <td>2</td>\n",
       "      <td>AirAsia</td>\n",
       "      <td>I5-764</td>\n",
       "      <td>Delhi</td>\n",
       "      <td>Early_Morning</td>\n",
       "      <td>zero</td>\n",
       "      <td>Early_Morning</td>\n",
       "      <td>Mumbai</td>\n",
       "      <td>Economy</td>\n",
       "      <td>2.17</td>\n",
       "      <td>1</td>\n",
       "      <td>5956</td>\n",
       "    </tr>\n",
       "    <tr>\n",
       "      <th>3</th>\n",
       "      <td>3</td>\n",
       "      <td>Vistara</td>\n",
       "      <td>UK-995</td>\n",
       "      <td>Delhi</td>\n",
       "      <td>Morning</td>\n",
       "      <td>zero</td>\n",
       "      <td>Afternoon</td>\n",
       "      <td>Mumbai</td>\n",
       "      <td>Economy</td>\n",
       "      <td>2.25</td>\n",
       "      <td>1</td>\n",
       "      <td>5955</td>\n",
       "    </tr>\n",
       "    <tr>\n",
       "      <th>4</th>\n",
       "      <td>4</td>\n",
       "      <td>Vistara</td>\n",
       "      <td>UK-963</td>\n",
       "      <td>Delhi</td>\n",
       "      <td>Morning</td>\n",
       "      <td>zero</td>\n",
       "      <td>Morning</td>\n",
       "      <td>Mumbai</td>\n",
       "      <td>Economy</td>\n",
       "      <td>2.33</td>\n",
       "      <td>1</td>\n",
       "      <td>5955</td>\n",
       "    </tr>\n",
       "  </tbody>\n",
       "</table>\n",
       "</div>"
      ],
      "text/plain": [
       "   Unnamed: 0   airline   flight source_city departure_time stops  \\\n",
       "0           0  SpiceJet  SG-8709       Delhi        Evening  zero   \n",
       "1           1  SpiceJet  SG-8157       Delhi  Early_Morning  zero   \n",
       "2           2   AirAsia   I5-764       Delhi  Early_Morning  zero   \n",
       "3           3   Vistara   UK-995       Delhi        Morning  zero   \n",
       "4           4   Vistara   UK-963       Delhi        Morning  zero   \n",
       "\n",
       "    arrival_time destination_city    class  duration  days_left  price  \n",
       "0          Night           Mumbai  Economy      2.17          1   5953  \n",
       "1        Morning           Mumbai  Economy      2.33          1   5953  \n",
       "2  Early_Morning           Mumbai  Economy      2.17          1   5956  \n",
       "3      Afternoon           Mumbai  Economy      2.25          1   5955  \n",
       "4        Morning           Mumbai  Economy      2.33          1   5955  "
      ]
     },
     "execution_count": 47,
     "metadata": {},
     "output_type": "execute_result"
    }
   ],
   "source": [
    "df2.head()"
   ]
  },
  {
   "cell_type": "code",
   "execution_count": 33,
   "id": "0473594b",
   "metadata": {},
   "outputs": [
    {
     "data": {
      "text/plain": [
       "(300153, 12)"
      ]
     },
     "execution_count": 33,
     "metadata": {},
     "output_type": "execute_result"
    }
   ],
   "source": [
    "df2.shape"
   ]
  },
  {
   "cell_type": "code",
   "execution_count": 34,
   "id": "19036e75",
   "metadata": {},
   "outputs": [
    {
     "data": {
      "text/plain": [
       "0"
      ]
     },
     "execution_count": 34,
     "metadata": {},
     "output_type": "execute_result"
    }
   ],
   "source": [
    "df2.duplicated().sum()"
   ]
  },
  {
   "cell_type": "code",
   "execution_count": 35,
   "id": "34b6ba26",
   "metadata": {},
   "outputs": [
    {
     "data": {
      "image/png": "[encoded data removed]",
      "text/plain": [
       "<Figure size 500x500 with 1 Axes>"
      ]
     },
     "metadata": {},
     "output_type": "display_data"
    }
   ],
   "source": [
    "df2_group = df2.groupby(df[\"airline\"]).count()\n",
    "df2_group_sorted = df2_group.sort_values(by=[\"source_city\"], ascending=False)\n",
    "df2_group_sorted\n",
    "\n",
    "df2_label = []\n",
    "for airline in df2_group_sorted.head(5).index:\n",
    "    df2_label.append(airline)\n",
    "\n",
    "plt.figure(figsize=(5,5))\n",
    "plt.pie(df2_group_sorted[\"source_city\"].head(5), labels=df_label, autopct=\"%.1f%%\")\n",
    "plt.show()"
   ]
  },
  {
   "cell_type": "code",
   "execution_count": null,
   "id": "ba0f5c76",
   "metadata": {},
   "outputs": [],
   "source": []
  },
  {
   "cell_type": "code",
   "execution_count": null,
   "id": "2eba0379",
   "metadata": {},
   "outputs": [],
   "source": []
  },
  {
   "cell_type": "code",
   "execution_count": null,
   "id": "c17aff1b",
   "metadata": {},
   "outputs": [],
   "source": []
  },
  {
   "cell_type": "code",
   "execution_count": null,
   "id": "e79520ba",
   "metadata": {},
   "outputs": [],
   "source": []
  },
  {
   "cell_type": "markdown",
   "id": "e76249a5",
   "metadata": {},
   "source": [
    "<a id=\"1\"></a>\n",
    "# <p style=\"padding:10px;background-color:lightblue;margin:0;color:white;font-family:arial;font-size:100%;text-align:center;border-radius: 15px 50px;overflow:hidden;font-weight:500\">REFERENCES</p>"
   ]
  },
  {
   "cell_type": "markdown",
   "id": "50e3c242",
   "metadata": {},
   "source": [
    "(TO EDIT LATER)\n",
    "! add here all the refereces you have used\n",
    "\n",
    "Dataset: \n",
    "https://www.kaggle.com/datasets/shubhambathwal/flight-price-prediction"
   ]
  }
 ],
 "metadata": {
  "kernelspec": {
   "display_name": "Python 3 (ipykernel)",
   "language": "python",
   "name": "python3"
  },
  "language_info": {
   "codemirror_mode": {
    "name": "ipython",
    "version": 3
   },
   "file_extension": ".py",
   "mimetype": "text/x-python",
   "name": "python",
   "nbconvert_exporter": "python",
   "pygments_lexer": "ipython3",
   "version": "3.9.13"
  }
 },
 "nbformat": 4,
 "nbformat_minor": 5
}
